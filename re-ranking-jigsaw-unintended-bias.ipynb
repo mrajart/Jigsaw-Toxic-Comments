{
 "cells": [
  {
   "cell_type": "code",
   "execution_count": 1,
   "id": "c4dca029",
   "metadata": {},
   "outputs": [],
   "source": [
    "import numpy as np \n",
    "import pandas as pd\n",
    "import os\n",
    "import gc\n",
    "import torch\n",
    "\n",
    "#Text Cleaning\n",
    "from bs4 import BeautifulSoup\n",
    "import re \n",
    "\n",
    "from sentence_transformers import SentenceTransformer, util"
   ]
  },
  {
   "cell_type": "code",
   "execution_count": 2,
   "id": "120f68ea",
   "metadata": {},
   "outputs": [
    {
     "name": "stderr",
     "output_type": "stream",
     "text": [
      "/home/roma/.local/lib/python3.8/site-packages/torch/cuda/memory.py:271: FutureWarning: torch.cuda.reset_max_memory_allocated now calls torch.cuda.reset_peak_memory_stats, which resets /all/ peak memory stats.\n",
      "  warnings.warn(\n"
     ]
    }
   ],
   "source": [
    "gc.collect()\n",
    "torch.cuda.empty_cache()\n",
    "torch.cuda.reset_peak_memory_stats()\n",
    "torch.cuda.reset_max_memory_allocated()\n",
    "torch.cuda.synchronize()"
   ]
  },
  {
   "cell_type": "code",
   "execution_count": 3,
   "id": "98b7d0e0",
   "metadata": {},
   "outputs": [],
   "source": [
    "df_jigsaw = pd.read_csv('input/jigsaw-unintended-bias-in-toxicity-classification/unintented-bias-dataset.csv') "
   ]
  },
  {
   "cell_type": "code",
   "execution_count": 4,
   "id": "285c2b2c",
   "metadata": {},
   "outputs": [
    {
     "data": {
      "text/html": [
       "<div>\n",
       "<style scoped>\n",
       "    .dataframe tbody tr th:only-of-type {\n",
       "        vertical-align: middle;\n",
       "    }\n",
       "\n",
       "    .dataframe tbody tr th {\n",
       "        vertical-align: top;\n",
       "    }\n",
       "\n",
       "    .dataframe thead th {\n",
       "        text-align: right;\n",
       "    }\n",
       "</style>\n",
       "<table border=\"1\" class=\"dataframe\">\n",
       "  <thead>\n",
       "    <tr style=\"text-align: right;\">\n",
       "      <th></th>\n",
       "      <th>id</th>\n",
       "      <th>comment_text</th>\n",
       "      <th>toxic</th>\n",
       "      <th>severe_toxic</th>\n",
       "      <th>obscene</th>\n",
       "      <th>threat</th>\n",
       "      <th>insult</th>\n",
       "      <th>identity_hate</th>\n",
       "      <th>sexual_explicit</th>\n",
       "    </tr>\n",
       "  </thead>\n",
       "  <tbody>\n",
       "    <tr>\n",
       "      <th>0</th>\n",
       "      <td>1083994</td>\n",
       "      <td>He got his money... now he lies in wait till a...</td>\n",
       "      <td>0.373134</td>\n",
       "      <td>0.044776</td>\n",
       "      <td>0.089552</td>\n",
       "      <td>0.014925</td>\n",
       "      <td>0.343284</td>\n",
       "      <td>0.000000</td>\n",
       "      <td>0.014925</td>\n",
       "    </tr>\n",
       "    <tr>\n",
       "      <th>1</th>\n",
       "      <td>650904</td>\n",
       "      <td>Mad dog will surely put the liberals in mental...</td>\n",
       "      <td>0.605263</td>\n",
       "      <td>0.013158</td>\n",
       "      <td>0.065789</td>\n",
       "      <td>0.065789</td>\n",
       "      <td>0.565789</td>\n",
       "      <td>0.092105</td>\n",
       "      <td>0.013158</td>\n",
       "    </tr>\n",
       "    <tr>\n",
       "      <th>2</th>\n",
       "      <td>5902188</td>\n",
       "      <td>And Trump continues his lifelong cowardice by ...</td>\n",
       "      <td>0.666667</td>\n",
       "      <td>0.015873</td>\n",
       "      <td>0.031746</td>\n",
       "      <td>0.000000</td>\n",
       "      <td>0.666667</td>\n",
       "      <td>0.047619</td>\n",
       "      <td>0.000000</td>\n",
       "    </tr>\n",
       "    <tr>\n",
       "      <th>3</th>\n",
       "      <td>7084460</td>\n",
       "      <td>\"while arresting a man for resisting arrest\".\\...</td>\n",
       "      <td>0.815789</td>\n",
       "      <td>0.065789</td>\n",
       "      <td>0.552632</td>\n",
       "      <td>0.105263</td>\n",
       "      <td>0.684211</td>\n",
       "      <td>0.000000</td>\n",
       "      <td>0.592105</td>\n",
       "    </tr>\n",
       "    <tr>\n",
       "      <th>4</th>\n",
       "      <td>5410943</td>\n",
       "      <td>Tucker and Paul are both total bad ass mofo's.</td>\n",
       "      <td>0.550000</td>\n",
       "      <td>0.037500</td>\n",
       "      <td>0.337500</td>\n",
       "      <td>0.000000</td>\n",
       "      <td>0.487500</td>\n",
       "      <td>0.037500</td>\n",
       "      <td>0.275000</td>\n",
       "    </tr>\n",
       "  </tbody>\n",
       "</table>\n",
       "</div>"
      ],
      "text/plain": [
       "        id                                       comment_text     toxic  \\\n",
       "0  1083994  He got his money... now he lies in wait till a...  0.373134   \n",
       "1   650904  Mad dog will surely put the liberals in mental...  0.605263   \n",
       "2  5902188  And Trump continues his lifelong cowardice by ...  0.666667   \n",
       "3  7084460  \"while arresting a man for resisting arrest\".\\...  0.815789   \n",
       "4  5410943     Tucker and Paul are both total bad ass mofo's.  0.550000   \n",
       "\n",
       "   severe_toxic   obscene    threat    insult  identity_hate  sexual_explicit  \n",
       "0      0.044776  0.089552  0.014925  0.343284       0.000000         0.014925  \n",
       "1      0.013158  0.065789  0.065789  0.565789       0.092105         0.013158  \n",
       "2      0.015873  0.031746  0.000000  0.666667       0.047619         0.000000  \n",
       "3      0.065789  0.552632  0.105263  0.684211       0.000000         0.592105  \n",
       "4      0.037500  0.337500  0.000000  0.487500       0.037500         0.275000  "
      ]
     },
     "execution_count": 4,
     "metadata": {},
     "output_type": "execute_result"
    }
   ],
   "source": [
    "df_jigsaw.head()"
   ]
  },
  {
   "cell_type": "code",
   "execution_count": 5,
   "id": "b9a45420",
   "metadata": {},
   "outputs": [],
   "source": [
    "df_ruddit = pd.read_csv('input/ruddit-jigsaw-dataset/ruddit_with_text.csv')[['comment_id', 'txt', 'offensiveness_score']]\n",
    "df_ruddit = df_ruddit.loc[(df_ruddit.txt != '[deleted]') & (df_ruddit.txt != '[removed]')]"
   ]
  },
  {
   "cell_type": "code",
   "execution_count": 6,
   "id": "6d0b9dc5",
   "metadata": {},
   "outputs": [
    {
     "data": {
      "text/html": [
       "<div>\n",
       "<style scoped>\n",
       "    .dataframe tbody tr th:only-of-type {\n",
       "        vertical-align: middle;\n",
       "    }\n",
       "\n",
       "    .dataframe tbody tr th {\n",
       "        vertical-align: top;\n",
       "    }\n",
       "\n",
       "    .dataframe thead th {\n",
       "        text-align: right;\n",
       "    }\n",
       "</style>\n",
       "<table border=\"1\" class=\"dataframe\">\n",
       "  <thead>\n",
       "    <tr style=\"text-align: right;\">\n",
       "      <th></th>\n",
       "      <th>comment_id</th>\n",
       "      <th>txt</th>\n",
       "      <th>offensiveness_score</th>\n",
       "    </tr>\n",
       "  </thead>\n",
       "  <tbody>\n",
       "    <tr>\n",
       "      <th>0</th>\n",
       "      <td>cza1q49</td>\n",
       "      <td>&gt; The difference in average earnings between m...</td>\n",
       "      <td>-0.083</td>\n",
       "    </tr>\n",
       "    <tr>\n",
       "      <th>1</th>\n",
       "      <td>cza1wdh</td>\n",
       "      <td>The myth is that the \"gap\" is entirely based o...</td>\n",
       "      <td>-0.022</td>\n",
       "    </tr>\n",
       "    <tr>\n",
       "      <th>3</th>\n",
       "      <td>cza2bw8</td>\n",
       "      <td>The assertion is that women get paid less for ...</td>\n",
       "      <td>-0.146</td>\n",
       "    </tr>\n",
       "    <tr>\n",
       "      <th>4</th>\n",
       "      <td>cza2iji</td>\n",
       "      <td>You said in the OP that's not what they're mea...</td>\n",
       "      <td>-0.083</td>\n",
       "    </tr>\n",
       "    <tr>\n",
       "      <th>5</th>\n",
       "      <td>cza2jj3</td>\n",
       "      <td>&gt;Men and women are not payed less for the same...</td>\n",
       "      <td>-0.042</td>\n",
       "    </tr>\n",
       "  </tbody>\n",
       "</table>\n",
       "</div>"
      ],
      "text/plain": [
       "  comment_id                                                txt  \\\n",
       "0    cza1q49  > The difference in average earnings between m...   \n",
       "1    cza1wdh  The myth is that the \"gap\" is entirely based o...   \n",
       "3    cza2bw8  The assertion is that women get paid less for ...   \n",
       "4    cza2iji  You said in the OP that's not what they're mea...   \n",
       "5    cza2jj3  >Men and women are not payed less for the same...   \n",
       "\n",
       "   offensiveness_score  \n",
       "0               -0.083  \n",
       "1               -0.022  \n",
       "3               -0.146  \n",
       "4               -0.083  \n",
       "5               -0.042  "
      ]
     },
     "execution_count": 6,
     "metadata": {},
     "output_type": "execute_result"
    }
   ],
   "source": [
    "df_ruddit.head()"
   ]
  },
  {
   "cell_type": "code",
   "execution_count": 7,
   "id": "5746c575",
   "metadata": {},
   "outputs": [
    {
     "data": {
      "text/plain": [
       "0          He got his money... now he lies in wait till a...\n",
       "1          Mad dog will surely put the liberals in mental...\n",
       "2          And Trump continues his lifelong cowardice by ...\n",
       "3          \"while arresting a man for resisting arrest\".\\...\n",
       "4             Tucker and Paul are both total bad ass mofo's.\n",
       "                                 ...                        \n",
       "1999511    Another man shamming article. If white men did...\n",
       "1999512    \"no matter what is put in front of you regardi...\n",
       "1999513    The Democrat party aided and abetted by it's M...\n",
       "1999514    I just don't find her a very good representati...\n",
       "1999515    You know the Trump fanatics are trolling the G...\n",
       "Name: comment_text, Length: 1999516, dtype: object"
      ]
     },
     "execution_count": 7,
     "metadata": {},
     "output_type": "execute_result"
    }
   ],
   "source": [
    "df_jigsaw.comment_text"
   ]
  },
  {
   "cell_type": "code",
   "execution_count": 8,
   "id": "b6c4857c",
   "metadata": {},
   "outputs": [],
   "source": [
    "def text_cleaning(text):\n",
    "    '''\n",
    "    Cleans text into a basic form for NLP. Operations include the following:-\n",
    "    1. Remove special charecters like &, #, etc\n",
    "    2. Removes extra spaces\n",
    "    3. Removes embedded URL links\n",
    "    4. Removes HTML tags\n",
    "    5. Removes emojis\n",
    "    \n",
    "    text - Text piece to be cleaned.\n",
    "    '''\n",
    "    template = re.compile(r'https?://\\S+|www\\.\\S+') #Removes website links\n",
    "    text = template.sub(r'', text)\n",
    "    \n",
    "    soup = BeautifulSoup(text, 'lxml') #Removes HTML tags\n",
    "    only_text = soup.get_text()\n",
    "    text = only_text\n",
    "    \n",
    "    emoji_pattern = re.compile(\"[\"\n",
    "                               u\"\\U0001F600-\\U0001F64F\"  # emoticons\n",
    "                               u\"\\U0001F300-\\U0001F5FF\"  # symbols & pictographs\n",
    "                               u\"\\U0001F680-\\U0001F6FF\"  # transport & map symbols\n",
    "                               u\"\\U0001F1E0-\\U0001F1FF\"  # flags (iOS)\n",
    "                               u\"\\U00002702-\\U000027B0\"\n",
    "                               u\"\\U000024C2-\\U0001F251\"\n",
    "                               \"]+\", flags=re.UNICODE)\n",
    "    text = emoji_pattern.sub(r'', text)\n",
    "    \n",
    "    text = re.sub(r\"[^a-zA-Z\\d]\", \" \", text) #Remove special Charecters\n",
    "    text = re.sub(' +', ' ', text) #Remove Extra Spaces\n",
    "    text = text.strip() # remove spaces at the beginning and at the end of string\n",
    "\n",
    "    return text"
   ]
  },
  {
   "cell_type": "code",
   "execution_count": 9,
   "id": "a63f32cf",
   "metadata": {},
   "outputs": [],
   "source": [
    "df_jigsaw.comment_text=df_jigsaw.comment_text.apply(str)"
   ]
  },
  {
   "cell_type": "code",
   "execution_count": 10,
   "id": "0a88f80c",
   "metadata": {},
   "outputs": [
    {
     "name": "stderr",
     "output_type": "stream",
     "text": [
      "/usr/lib/python3/dist-packages/bs4/__init__.py:311: UserWarning: \"b'.'\" looks like a filename, not markup. You should probably open this file and pass the filehandle into Beautiful Soup.\n",
      "  warnings.warn(\n"
     ]
    }
   ],
   "source": [
    "df_jigsaw.comment_text = df_jigsaw.comment_text.apply(text_cleaning)\n",
    "df_ruddit.txt = df_ruddit.txt.apply(text_cleaning)"
   ]
  },
  {
   "cell_type": "code",
   "execution_count": 11,
   "id": "8d4906eb",
   "metadata": {},
   "outputs": [
    {
     "data": {
      "text/html": [
       "<div>\n",
       "<style scoped>\n",
       "    .dataframe tbody tr th:only-of-type {\n",
       "        vertical-align: middle;\n",
       "    }\n",
       "\n",
       "    .dataframe tbody tr th {\n",
       "        vertical-align: top;\n",
       "    }\n",
       "\n",
       "    .dataframe thead th {\n",
       "        text-align: right;\n",
       "    }\n",
       "</style>\n",
       "<table border=\"1\" class=\"dataframe\">\n",
       "  <thead>\n",
       "    <tr style=\"text-align: right;\">\n",
       "      <th></th>\n",
       "      <th>id</th>\n",
       "      <th>comment_text</th>\n",
       "      <th>toxic</th>\n",
       "      <th>severe_toxic</th>\n",
       "      <th>obscene</th>\n",
       "      <th>threat</th>\n",
       "      <th>insult</th>\n",
       "      <th>identity_hate</th>\n",
       "      <th>sexual_explicit</th>\n",
       "    </tr>\n",
       "  </thead>\n",
       "  <tbody>\n",
       "    <tr>\n",
       "      <th>0</th>\n",
       "      <td>1083994</td>\n",
       "      <td>He got his money now he lies in wait till afte...</td>\n",
       "      <td>0.373134</td>\n",
       "      <td>0.044776</td>\n",
       "      <td>0.089552</td>\n",
       "      <td>0.014925</td>\n",
       "      <td>0.343284</td>\n",
       "      <td>0.000000</td>\n",
       "      <td>0.014925</td>\n",
       "    </tr>\n",
       "    <tr>\n",
       "      <th>1</th>\n",
       "      <td>650904</td>\n",
       "      <td>Mad dog will surely put the liberals in mental...</td>\n",
       "      <td>0.605263</td>\n",
       "      <td>0.013158</td>\n",
       "      <td>0.065789</td>\n",
       "      <td>0.065789</td>\n",
       "      <td>0.565789</td>\n",
       "      <td>0.092105</td>\n",
       "      <td>0.013158</td>\n",
       "    </tr>\n",
       "    <tr>\n",
       "      <th>2</th>\n",
       "      <td>5902188</td>\n",
       "      <td>And Trump continues his lifelong cowardice by ...</td>\n",
       "      <td>0.666667</td>\n",
       "      <td>0.015873</td>\n",
       "      <td>0.031746</td>\n",
       "      <td>0.000000</td>\n",
       "      <td>0.666667</td>\n",
       "      <td>0.047619</td>\n",
       "      <td>0.000000</td>\n",
       "    </tr>\n",
       "    <tr>\n",
       "      <th>3</th>\n",
       "      <td>7084460</td>\n",
       "      <td>while arresting a man for resisting arrest If ...</td>\n",
       "      <td>0.815789</td>\n",
       "      <td>0.065789</td>\n",
       "      <td>0.552632</td>\n",
       "      <td>0.105263</td>\n",
       "      <td>0.684211</td>\n",
       "      <td>0.000000</td>\n",
       "      <td>0.592105</td>\n",
       "    </tr>\n",
       "    <tr>\n",
       "      <th>4</th>\n",
       "      <td>5410943</td>\n",
       "      <td>Tucker and Paul are both total bad ass mofo s</td>\n",
       "      <td>0.550000</td>\n",
       "      <td>0.037500</td>\n",
       "      <td>0.337500</td>\n",
       "      <td>0.000000</td>\n",
       "      <td>0.487500</td>\n",
       "      <td>0.037500</td>\n",
       "      <td>0.275000</td>\n",
       "    </tr>\n",
       "  </tbody>\n",
       "</table>\n",
       "</div>"
      ],
      "text/plain": [
       "        id                                       comment_text     toxic  \\\n",
       "0  1083994  He got his money now he lies in wait till afte...  0.373134   \n",
       "1   650904  Mad dog will surely put the liberals in mental...  0.605263   \n",
       "2  5902188  And Trump continues his lifelong cowardice by ...  0.666667   \n",
       "3  7084460  while arresting a man for resisting arrest If ...  0.815789   \n",
       "4  5410943      Tucker and Paul are both total bad ass mofo s  0.550000   \n",
       "\n",
       "   severe_toxic   obscene    threat    insult  identity_hate  sexual_explicit  \n",
       "0      0.044776  0.089552  0.014925  0.343284       0.000000         0.014925  \n",
       "1      0.013158  0.065789  0.065789  0.565789       0.092105         0.013158  \n",
       "2      0.015873  0.031746  0.000000  0.666667       0.047619         0.000000  \n",
       "3      0.065789  0.552632  0.105263  0.684211       0.000000         0.592105  \n",
       "4      0.037500  0.337500  0.000000  0.487500       0.037500         0.275000  "
      ]
     },
     "execution_count": 11,
     "metadata": {},
     "output_type": "execute_result"
    }
   ],
   "source": [
    "df_jigsaw.head()"
   ]
  },
  {
   "cell_type": "code",
   "execution_count": 12,
   "id": "0c685e6f",
   "metadata": {},
   "outputs": [
    {
     "data": {
      "text/html": [
       "<div>\n",
       "<style scoped>\n",
       "    .dataframe tbody tr th:only-of-type {\n",
       "        vertical-align: middle;\n",
       "    }\n",
       "\n",
       "    .dataframe tbody tr th {\n",
       "        vertical-align: top;\n",
       "    }\n",
       "\n",
       "    .dataframe thead th {\n",
       "        text-align: right;\n",
       "    }\n",
       "</style>\n",
       "<table border=\"1\" class=\"dataframe\">\n",
       "  <thead>\n",
       "    <tr style=\"text-align: right;\">\n",
       "      <th></th>\n",
       "      <th>comment_id</th>\n",
       "      <th>txt</th>\n",
       "      <th>offensiveness_score</th>\n",
       "    </tr>\n",
       "  </thead>\n",
       "  <tbody>\n",
       "    <tr>\n",
       "      <th>0</th>\n",
       "      <td>cza1q49</td>\n",
       "      <td>The difference in average earnings between men...</td>\n",
       "      <td>-0.083</td>\n",
       "    </tr>\n",
       "    <tr>\n",
       "      <th>1</th>\n",
       "      <td>cza1wdh</td>\n",
       "      <td>The myth is that the gap is entirely based on ...</td>\n",
       "      <td>-0.022</td>\n",
       "    </tr>\n",
       "    <tr>\n",
       "      <th>3</th>\n",
       "      <td>cza2bw8</td>\n",
       "      <td>The assertion is that women get paid less for ...</td>\n",
       "      <td>-0.146</td>\n",
       "    </tr>\n",
       "    <tr>\n",
       "      <th>4</th>\n",
       "      <td>cza2iji</td>\n",
       "      <td>You said in the OP that s not what they re mea...</td>\n",
       "      <td>-0.083</td>\n",
       "    </tr>\n",
       "    <tr>\n",
       "      <th>5</th>\n",
       "      <td>cza2jj3</td>\n",
       "      <td>Men and women are not payed less for the same ...</td>\n",
       "      <td>-0.042</td>\n",
       "    </tr>\n",
       "  </tbody>\n",
       "</table>\n",
       "</div>"
      ],
      "text/plain": [
       "  comment_id                                                txt  \\\n",
       "0    cza1q49  The difference in average earnings between men...   \n",
       "1    cza1wdh  The myth is that the gap is entirely based on ...   \n",
       "3    cza2bw8  The assertion is that women get paid less for ...   \n",
       "4    cza2iji  You said in the OP that s not what they re mea...   \n",
       "5    cza2jj3  Men and women are not payed less for the same ...   \n",
       "\n",
       "   offensiveness_score  \n",
       "0               -0.083  \n",
       "1               -0.022  \n",
       "3               -0.146  \n",
       "4               -0.083  \n",
       "5               -0.042  "
      ]
     },
     "execution_count": 12,
     "metadata": {},
     "output_type": "execute_result"
    }
   ],
   "source": [
    "df_ruddit.head()"
   ]
  },
  {
   "cell_type": "code",
   "execution_count": 13,
   "id": "f4a0b5d0",
   "metadata": {},
   "outputs": [],
   "source": [
    "ru_toxic_score = df_ruddit[\"offensiveness_score\"].values"
   ]
  },
  {
   "cell_type": "code",
   "execution_count": 14,
   "id": "f4a35f9c",
   "metadata": {},
   "outputs": [
    {
     "data": {
      "text/plain": [
       "array([-0.083, -0.022, -0.146, ..., -0.292,  0.333, -0.625])"
      ]
     },
     "execution_count": 14,
     "metadata": {},
     "output_type": "execute_result"
    }
   ],
   "source": [
    "ru_toxic_score"
   ]
  },
  {
   "cell_type": "code",
   "execution_count": 15,
   "id": "693bedd6",
   "metadata": {},
   "outputs": [],
   "source": [
    "model = SentenceTransformer(\"paraphrase-mpnet-base-v2\")"
   ]
  },
  {
   "cell_type": "code",
   "execution_count": 16,
   "id": "9779d4a4",
   "metadata": {},
   "outputs": [
    {
     "data": {
      "text/plain": [
       "512"
      ]
     },
     "execution_count": 16,
     "metadata": {},
     "output_type": "execute_result"
    }
   ],
   "source": [
    "model.max_seq_length"
   ]
  },
  {
   "cell_type": "code",
   "execution_count": 17,
   "id": "a2b7ae09",
   "metadata": {},
   "outputs": [],
   "source": [
    "#model.max_seq_length = 512"
   ]
  },
  {
   "cell_type": "code",
   "execution_count": 18,
   "id": "9a9cbdcf",
   "metadata": {},
   "outputs": [],
   "source": [
    "sentences_jigsaw = df_jigsaw.comment_text\n",
    "sentences_ruddit = df_ruddit.txt.reset_index(drop=True)"
   ]
  },
  {
   "cell_type": "code",
   "execution_count": 19,
   "id": "6ce94ef5",
   "metadata": {},
   "outputs": [
    {
     "data": {
      "text/plain": [
       "0          He got his money now he lies in wait till afte...\n",
       "1          Mad dog will surely put the liberals in mental...\n",
       "2          And Trump continues his lifelong cowardice by ...\n",
       "3          while arresting a man for resisting arrest If ...\n",
       "4              Tucker and Paul are both total bad ass mofo s\n",
       "                                 ...                        \n",
       "1999511    Another man shamming article If white men did ...\n",
       "1999512    no matter what is put in front of you regardin...\n",
       "1999513    The Democrat party aided and abetted by it s M...\n",
       "1999514    I just don t find her a very good representati...\n",
       "1999515    You know the Trump fanatics are trolling the G...\n",
       "Name: comment_text, Length: 1999516, dtype: object"
      ]
     },
     "execution_count": 19,
     "metadata": {},
     "output_type": "execute_result"
    }
   ],
   "source": [
    "sentences_jigsaw"
   ]
  },
  {
   "cell_type": "code",
   "execution_count": 20,
   "id": "4a01af72",
   "metadata": {},
   "outputs": [
    {
     "data": {
      "text/plain": [
       "0       The difference in average earnings between men...\n",
       "1       The myth is that the gap is entirely based on ...\n",
       "2       The assertion is that women get paid less for ...\n",
       "3       You said in the OP that s not what they re mea...\n",
       "4       Men and women are not payed less for the same ...\n",
       "                              ...                        \n",
       "5705    They should only censor things that talk badly...\n",
       "5706    and one of them is a woman OH SHIT we better b...\n",
       "5707                    how is this flared as US politics\n",
       "5708    People in Hong Kong must decide if they are go...\n",
       "5709    I know this is an old post but I saw him last ...\n",
       "Name: txt, Length: 5710, dtype: object"
      ]
     },
     "execution_count": 20,
     "metadata": {},
     "output_type": "execute_result"
    }
   ],
   "source": [
    "sentences_ruddit"
   ]
  },
  {
   "cell_type": "code",
   "execution_count": 21,
   "id": "e4b5e891",
   "metadata": {
    "scrolled": true
   },
   "outputs": [
    {
     "name": "stdout",
     "output_type": "stream",
     "text": [
      "Tucker and Paul are both total bad ass mofo s\n",
      "\n",
      "Men and women are not payed less for the same job I don t think many people say this is the case though I think this is a misconception on the other side not something feminists have said Even if women have a lower average wage in all jobs than men I mean that s even bigger than individual cases This shows that women are in an inferior position more than if a woman were to get literally 30 cents less Because averages show the bigger picture Edit Changed 70 to 30\n"
     ]
    }
   ],
   "source": [
    "print(sentences_jigsaw[4])\n",
    "print()\n",
    "print(sentences_ruddit[4])"
   ]
  },
  {
   "cell_type": "code",
   "execution_count": 22,
   "id": "cb841178",
   "metadata": {},
   "outputs": [
    {
     "data": {
      "application/vnd.jupyter.widget-view+json": {
       "model_id": "b41483c05de2489b832bf146f3c5e4db",
       "version_major": 2,
       "version_minor": 0
      },
      "text/plain": [
       "Batches:   0%|          | 0/62485 [00:00<?, ?it/s]"
      ]
     },
     "metadata": {},
     "output_type": "display_data"
    },
    {
     "ename": "KeyboardInterrupt",
     "evalue": "",
     "output_type": "error",
     "traceback": [
      "\u001b[0;31m---------------------------------------------------------------------------\u001b[0m",
      "\u001b[0;31mKeyboardInterrupt\u001b[0m                         Traceback (most recent call last)",
      "\u001b[0;32m/tmp/ipykernel_13710/4021373860.py\u001b[0m in \u001b[0;36m<module>\u001b[0;34m\u001b[0m\n\u001b[0;32m----> 1\u001b[0;31m \u001b[0membeddings_jigsaw\u001b[0m \u001b[0;34m=\u001b[0m \u001b[0mmodel\u001b[0m\u001b[0;34m.\u001b[0m\u001b[0mencode\u001b[0m\u001b[0;34m(\u001b[0m\u001b[0msentences_jigsaw\u001b[0m\u001b[0;34m,\u001b[0m \u001b[0mshow_progress_bar\u001b[0m \u001b[0;34m=\u001b[0m \u001b[0;32mTrue\u001b[0m\u001b[0;34m,\u001b[0m \u001b[0mconvert_to_tensor\u001b[0m\u001b[0;34m=\u001b[0m\u001b[0;32mTrue\u001b[0m\u001b[0;34m)\u001b[0m\u001b[0;34m\u001b[0m\u001b[0;34m\u001b[0m\u001b[0m\n\u001b[0m",
      "\u001b[0;32m~/.local/lib/python3.8/site-packages/sentence_transformers/SentenceTransformer.py\u001b[0m in \u001b[0;36mencode\u001b[0;34m(self, sentences, batch_size, show_progress_bar, output_value, convert_to_numpy, convert_to_tensor, device, normalize_embeddings)\u001b[0m\n\u001b[1;32m    152\u001b[0m             \u001b[0msentences_batch\u001b[0m \u001b[0;34m=\u001b[0m \u001b[0msentences_sorted\u001b[0m\u001b[0;34m[\u001b[0m\u001b[0mstart_index\u001b[0m\u001b[0;34m:\u001b[0m\u001b[0mstart_index\u001b[0m\u001b[0;34m+\u001b[0m\u001b[0mbatch_size\u001b[0m\u001b[0;34m]\u001b[0m\u001b[0;34m\u001b[0m\u001b[0;34m\u001b[0m\u001b[0m\n\u001b[1;32m    153\u001b[0m             \u001b[0mfeatures\u001b[0m \u001b[0;34m=\u001b[0m \u001b[0mself\u001b[0m\u001b[0;34m.\u001b[0m\u001b[0mtokenize\u001b[0m\u001b[0;34m(\u001b[0m\u001b[0msentences_batch\u001b[0m\u001b[0;34m)\u001b[0m\u001b[0;34m\u001b[0m\u001b[0;34m\u001b[0m\u001b[0m\n\u001b[0;32m--> 154\u001b[0;31m             \u001b[0mfeatures\u001b[0m \u001b[0;34m=\u001b[0m \u001b[0mbatch_to_device\u001b[0m\u001b[0;34m(\u001b[0m\u001b[0mfeatures\u001b[0m\u001b[0;34m,\u001b[0m \u001b[0mdevice\u001b[0m\u001b[0;34m)\u001b[0m\u001b[0;34m\u001b[0m\u001b[0;34m\u001b[0m\u001b[0m\n\u001b[0m\u001b[1;32m    155\u001b[0m \u001b[0;34m\u001b[0m\u001b[0m\n\u001b[1;32m    156\u001b[0m             \u001b[0;32mwith\u001b[0m \u001b[0mtorch\u001b[0m\u001b[0;34m.\u001b[0m\u001b[0mno_grad\u001b[0m\u001b[0;34m(\u001b[0m\u001b[0;34m)\u001b[0m\u001b[0;34m:\u001b[0m\u001b[0;34m\u001b[0m\u001b[0;34m\u001b[0m\u001b[0m\n",
      "\u001b[0;32m~/.local/lib/python3.8/site-packages/sentence_transformers/util.py\u001b[0m in \u001b[0;36mbatch_to_device\u001b[0;34m(batch, target_device)\u001b[0m\n\u001b[1;32m    291\u001b[0m     \u001b[0;32mfor\u001b[0m \u001b[0mkey\u001b[0m \u001b[0;32min\u001b[0m \u001b[0mbatch\u001b[0m\u001b[0;34m:\u001b[0m\u001b[0;34m\u001b[0m\u001b[0;34m\u001b[0m\u001b[0m\n\u001b[1;32m    292\u001b[0m         \u001b[0;32mif\u001b[0m \u001b[0misinstance\u001b[0m\u001b[0;34m(\u001b[0m\u001b[0mbatch\u001b[0m\u001b[0;34m[\u001b[0m\u001b[0mkey\u001b[0m\u001b[0;34m]\u001b[0m\u001b[0;34m,\u001b[0m \u001b[0mTensor\u001b[0m\u001b[0;34m)\u001b[0m\u001b[0;34m:\u001b[0m\u001b[0;34m\u001b[0m\u001b[0;34m\u001b[0m\u001b[0m\n\u001b[0;32m--> 293\u001b[0;31m             \u001b[0mbatch\u001b[0m\u001b[0;34m[\u001b[0m\u001b[0mkey\u001b[0m\u001b[0;34m]\u001b[0m \u001b[0;34m=\u001b[0m \u001b[0mbatch\u001b[0m\u001b[0;34m[\u001b[0m\u001b[0mkey\u001b[0m\u001b[0;34m]\u001b[0m\u001b[0;34m.\u001b[0m\u001b[0mto\u001b[0m\u001b[0;34m(\u001b[0m\u001b[0mtarget_device\u001b[0m\u001b[0;34m)\u001b[0m\u001b[0;34m\u001b[0m\u001b[0;34m\u001b[0m\u001b[0m\n\u001b[0m\u001b[1;32m    294\u001b[0m     \u001b[0;32mreturn\u001b[0m \u001b[0mbatch\u001b[0m\u001b[0;34m\u001b[0m\u001b[0;34m\u001b[0m\u001b[0m\n\u001b[1;32m    295\u001b[0m \u001b[0;34m\u001b[0m\u001b[0m\n",
      "\u001b[0;31mKeyboardInterrupt\u001b[0m: "
     ]
    }
   ],
   "source": [
    "embeddings_jigsaw = model.encode(sentences_jigsaw, show_progress_bar = True, convert_to_tensor=True)"
   ]
  },
  {
   "cell_type": "code",
   "execution_count": null,
   "id": "84549ed9",
   "metadata": {},
   "outputs": [],
   "source": [
    "embeddings_jigsaw = embeddings_jigsaw.to('cuda')\n",
    "#embeddings = util.normalize_embeddings(embeddings_jigsaw)"
   ]
  },
  {
   "cell_type": "code",
   "execution_count": null,
   "id": "921ed729",
   "metadata": {},
   "outputs": [],
   "source": [
    "embeddings_ruddit = model.encode(sentences_ruddit, show_progress_bar = True, convert_to_tensor=True)"
   ]
  },
  {
   "cell_type": "code",
   "execution_count": null,
   "id": "86c34b23",
   "metadata": {},
   "outputs": [],
   "source": [
    "embeddings_ruddit = embeddings_ruddit.to('cuda')\n",
    "#embeddings_ruddit = util.normalize_embeddings(embeddings_ruddit)"
   ]
  },
  {
   "cell_type": "code",
   "execution_count": null,
   "id": "93392540",
   "metadata": {},
   "outputs": [],
   "source": [
    "top_K = 10"
   ]
  },
  {
   "cell_type": "code",
   "execution_count": null,
   "id": "a2047239",
   "metadata": {},
   "outputs": [],
   "source": [
    "hits = util.semantic_search(embeddings_jigsaw, embeddings_ruddit, top_k=top_K)"
   ]
  },
  {
   "cell_type": "code",
   "execution_count": null,
   "id": "4e4f4958",
   "metadata": {},
   "outputs": [],
   "source": [
    "hits[0][0:10]"
   ]
  },
  {
   "cell_type": "code",
   "execution_count": null,
   "id": "2a050dc3",
   "metadata": {},
   "outputs": [],
   "source": [
    "def check(idx, top_K):\n",
    "    c = 0\n",
    "    for i in range(top_K):\n",
    "        more_score = ru_toxic_score[hits[idx][i][\"corpus_id\"]]\n",
    "        c+=more_score#*more_w\n",
    "    return c/top_K"
   ]
  },
  {
   "cell_type": "code",
   "execution_count": null,
   "id": "a06b8f96",
   "metadata": {},
   "outputs": [],
   "source": [
    "sentence_sore = np.empty(len(df_jigsaw))\n",
    "\n",
    "for i in range(len(df_jigsaw)):\n",
    "    sentence_sore[i]=check(i, top_K)"
   ]
  },
  {
   "cell_type": "code",
   "execution_count": null,
   "id": "65f59f79",
   "metadata": {},
   "outputs": [],
   "source": [
    "df = df_jigsaw.copy()"
   ]
  },
  {
   "cell_type": "code",
   "execution_count": null,
   "id": "fa221742",
   "metadata": {},
   "outputs": [],
   "source": [
    "df['similarity_score'] = sentence_sore\n",
    "df.head()"
   ]
  },
  {
   "cell_type": "code",
   "execution_count": null,
   "id": "f6a5c0f4",
   "metadata": {},
   "outputs": [],
   "source": [
    "#df['score'] = df['score'].rank(method='first')\n",
    "#df.head()"
   ]
  },
  {
   "cell_type": "code",
   "execution_count": null,
   "id": "7e577789",
   "metadata": {},
   "outputs": [],
   "source": [
    "#df.drop('text', axis=1, inplace=True)\n",
    "df.to_csv(\"re-ranking-jigsaw-unintended-bias.csv\", index=False)"
   ]
  },
  {
   "cell_type": "code",
   "execution_count": null,
   "id": "735a3c66",
   "metadata": {},
   "outputs": [],
   "source": []
  }
 ],
 "metadata": {
  "kernelspec": {
   "display_name": "Python 3 (ipykernel)",
   "language": "python",
   "name": "python3"
  },
  "language_info": {
   "codemirror_mode": {
    "name": "ipython",
    "version": 3
   },
   "file_extension": ".py",
   "mimetype": "text/x-python",
   "name": "python",
   "nbconvert_exporter": "python",
   "pygments_lexer": "ipython3",
   "version": "3.8.10"
  }
 },
 "nbformat": 4,
 "nbformat_minor": 5
}
