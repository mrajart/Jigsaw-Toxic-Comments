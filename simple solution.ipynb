{
 "cells": [
  {
   "cell_type": "code",
   "execution_count": 1,
   "id": "0377dc67",
   "metadata": {
    "execution": {
     "iopub.execute_input": "2022-01-23T17:38:10.931904Z",
     "iopub.status.busy": "2022-01-23T17:38:10.930408Z",
     "iopub.status.idle": "2022-01-23T17:38:39.808404Z",
     "shell.execute_reply": "2022-01-23T17:38:39.807782Z",
     "shell.execute_reply.started": "2022-01-23T17:35:45.518765Z"
    },
    "papermill": {
     "duration": 28.903825,
     "end_time": "2022-01-23T17:38:39.808550",
     "exception": false,
     "start_time": "2022-01-23T17:38:10.904725",
     "status": "completed"
    },
    "tags": []
   },
   "outputs": [
    {
     "name": "stdout",
     "output_type": "stream",
     "text": [
      "Processing /kaggle/input/sentence-transformers/sentence_transformers-2.1.0-py3-none-any.whl\r\n",
      "Requirement already satisfied: torch>=1.6.0 in /opt/conda/lib/python3.7/site-packages (from sentence-transformers==2.1.0) (1.9.1)\r\n",
      "Requirement already satisfied: transformers<5.0.0,>=4.6.0 in /opt/conda/lib/python3.7/site-packages (from sentence-transformers==2.1.0) (4.12.5)\r\n",
      "Requirement already satisfied: torchvision in /opt/conda/lib/python3.7/site-packages (from sentence-transformers==2.1.0) (0.10.1)\r\n",
      "Requirement already satisfied: tokenizers>=0.10.3 in /opt/conda/lib/python3.7/site-packages (from sentence-transformers==2.1.0) (0.10.3)\r\n",
      "Requirement already satisfied: numpy in /opt/conda/lib/python3.7/site-packages (from sentence-transformers==2.1.0) (1.19.5)\r\n",
      "Requirement already satisfied: tqdm in /opt/conda/lib/python3.7/site-packages (from sentence-transformers==2.1.0) (4.62.3)\r\n",
      "Requirement already satisfied: sentencepiece in /opt/conda/lib/python3.7/site-packages (from sentence-transformers==2.1.0) (0.1.96)\r\n",
      "Requirement already satisfied: huggingface-hub in /opt/conda/lib/python3.7/site-packages (from sentence-transformers==2.1.0) (0.1.2)\r\n",
      "Requirement already satisfied: scikit-learn in /opt/conda/lib/python3.7/site-packages (from sentence-transformers==2.1.0) (0.23.2)\r\n",
      "Requirement already satisfied: scipy in /opt/conda/lib/python3.7/site-packages (from sentence-transformers==2.1.0) (1.7.2)\r\n",
      "Requirement already satisfied: nltk in /opt/conda/lib/python3.7/site-packages (from sentence-transformers==2.1.0) (3.2.4)\r\n",
      "Requirement already satisfied: typing-extensions in /opt/conda/lib/python3.7/site-packages (from torch>=1.6.0->sentence-transformers==2.1.0) (3.10.0.2)\r\n",
      "Requirement already satisfied: importlib-metadata in /opt/conda/lib/python3.7/site-packages (from transformers<5.0.0,>=4.6.0->sentence-transformers==2.1.0) (4.8.2)\r\n",
      "Requirement already satisfied: sacremoses in /opt/conda/lib/python3.7/site-packages (from transformers<5.0.0,>=4.6.0->sentence-transformers==2.1.0) (0.0.46)\r\n",
      "Requirement already satisfied: filelock in /opt/conda/lib/python3.7/site-packages (from transformers<5.0.0,>=4.6.0->sentence-transformers==2.1.0) (3.3.2)\r\n",
      "Requirement already satisfied: requests in /opt/conda/lib/python3.7/site-packages (from transformers<5.0.0,>=4.6.0->sentence-transformers==2.1.0) (2.25.1)\r\n",
      "Requirement already satisfied: pyyaml>=5.1 in /opt/conda/lib/python3.7/site-packages (from transformers<5.0.0,>=4.6.0->sentence-transformers==2.1.0) (6.0)\r\n",
      "Requirement already satisfied: packaging>=20.0 in /opt/conda/lib/python3.7/site-packages (from transformers<5.0.0,>=4.6.0->sentence-transformers==2.1.0) (21.0)\r\n",
      "Requirement already satisfied: regex!=2019.12.17 in /opt/conda/lib/python3.7/site-packages (from transformers<5.0.0,>=4.6.0->sentence-transformers==2.1.0) (2021.11.10)\r\n",
      "Requirement already satisfied: six in /opt/conda/lib/python3.7/site-packages (from nltk->sentence-transformers==2.1.0) (1.16.0)\r\n",
      "Requirement already satisfied: joblib>=0.11 in /opt/conda/lib/python3.7/site-packages (from scikit-learn->sentence-transformers==2.1.0) (1.1.0)\r\n",
      "Requirement already satisfied: threadpoolctl>=2.0.0 in /opt/conda/lib/python3.7/site-packages (from scikit-learn->sentence-transformers==2.1.0) (3.0.0)\r\n",
      "Requirement already satisfied: pillow>=5.3.0 in /opt/conda/lib/python3.7/site-packages (from torchvision->sentence-transformers==2.1.0) (8.2.0)\r\n",
      "Requirement already satisfied: pyparsing>=2.0.2 in /opt/conda/lib/python3.7/site-packages (from packaging>=20.0->transformers<5.0.0,>=4.6.0->sentence-transformers==2.1.0) (3.0.6)\r\n",
      "Requirement already satisfied: zipp>=0.5 in /opt/conda/lib/python3.7/site-packages (from importlib-metadata->transformers<5.0.0,>=4.6.0->sentence-transformers==2.1.0) (3.6.0)\r\n",
      "Requirement already satisfied: chardet<5,>=3.0.2 in /opt/conda/lib/python3.7/site-packages (from requests->transformers<5.0.0,>=4.6.0->sentence-transformers==2.1.0) (4.0.0)\r\n",
      "Requirement already satisfied: idna<3,>=2.5 in /opt/conda/lib/python3.7/site-packages (from requests->transformers<5.0.0,>=4.6.0->sentence-transformers==2.1.0) (2.10)\r\n",
      "Requirement already satisfied: certifi>=2017.4.17 in /opt/conda/lib/python3.7/site-packages (from requests->transformers<5.0.0,>=4.6.0->sentence-transformers==2.1.0) (2021.10.8)\r\n",
      "Requirement already satisfied: urllib3<1.27,>=1.21.1 in /opt/conda/lib/python3.7/site-packages (from requests->transformers<5.0.0,>=4.6.0->sentence-transformers==2.1.0) (1.26.7)\r\n",
      "Requirement already satisfied: click in /opt/conda/lib/python3.7/site-packages (from sacremoses->transformers<5.0.0,>=4.6.0->sentence-transformers==2.1.0) (8.0.3)\r\n",
      "Installing collected packages: sentence-transformers\r\n",
      "Successfully installed sentence-transformers-2.1.0\r\n",
      "\u001b[33mWARNING: Running pip as the 'root' user can result in broken permissions and conflicting behaviour with the system package manager. It is recommended to use a virtual environment instead: https://pip.pypa.io/warnings/venv\u001b[0m\r\n"
     ]
    }
   ],
   "source": [
    "!pip install ../input/sentence-transformers/sentence_transformers-2.1.0-py3-none-any.whl"
   ]
  },
  {
   "cell_type": "code",
   "execution_count": 2,
   "id": "eaee446b",
   "metadata": {
    "execution": {
     "iopub.execute_input": "2022-01-23T17:38:39.860455Z",
     "iopub.status.busy": "2022-01-23T17:38:39.859709Z",
     "iopub.status.idle": "2022-01-23T17:38:48.086799Z",
     "shell.execute_reply": "2022-01-23T17:38:48.086308Z",
     "shell.execute_reply.started": "2022-01-23T17:36:14.560992Z"
    },
    "papermill": {
     "duration": 8.254336,
     "end_time": "2022-01-23T17:38:48.086932",
     "exception": false,
     "start_time": "2022-01-23T17:38:39.832596",
     "status": "completed"
    },
    "tags": []
   },
   "outputs": [],
   "source": [
    "import numpy as np \n",
    "import pandas as pd\n",
    "import os\n",
    "\n",
    "#Text Cleaning\n",
    "from bs4 import BeautifulSoup\n",
    "import re \n",
    "\n",
    "from sentence_transformers import SentenceTransformer, util"
   ]
  },
  {
   "cell_type": "code",
   "execution_count": 3,
   "id": "178b6b84",
   "metadata": {
    "execution": {
     "iopub.execute_input": "2022-01-23T17:38:48.136710Z",
     "iopub.status.busy": "2022-01-23T17:38:48.136206Z",
     "iopub.status.idle": "2022-01-23T17:38:48.349071Z",
     "shell.execute_reply": "2022-01-23T17:38:48.348595Z",
     "shell.execute_reply.started": "2022-01-23T17:36:22.648458Z"
    },
    "papermill": {
     "duration": 0.239189,
     "end_time": "2022-01-23T17:38:48.349197",
     "exception": false,
     "start_time": "2022-01-23T17:38:48.110008",
     "status": "completed"
    },
    "tags": []
   },
   "outputs": [],
   "source": [
    "df_jigsaw = pd.read_csv(\"../input/jigsaw-toxic-severity-rating/comments_to_score.csv\")"
   ]
  },
  {
   "cell_type": "code",
   "execution_count": 4,
   "id": "9f9ddc08",
   "metadata": {
    "execution": {
     "iopub.execute_input": "2022-01-23T17:38:48.401774Z",
     "iopub.status.busy": "2022-01-23T17:38:48.401052Z",
     "iopub.status.idle": "2022-01-23T17:38:48.411843Z",
     "shell.execute_reply": "2022-01-23T17:38:48.412245Z",
     "shell.execute_reply.started": "2022-01-23T17:36:22.788012Z"
    },
    "papermill": {
     "duration": 0.040215,
     "end_time": "2022-01-23T17:38:48.412364",
     "exception": false,
     "start_time": "2022-01-23T17:38:48.372149",
     "status": "completed"
    },
    "tags": []
   },
   "outputs": [
    {
     "data": {
      "text/html": [
       "<div>\n",
       "<style scoped>\n",
       "    .dataframe tbody tr th:only-of-type {\n",
       "        vertical-align: middle;\n",
       "    }\n",
       "\n",
       "    .dataframe tbody tr th {\n",
       "        vertical-align: top;\n",
       "    }\n",
       "\n",
       "    .dataframe thead th {\n",
       "        text-align: right;\n",
       "    }\n",
       "</style>\n",
       "<table border=\"1\" class=\"dataframe\">\n",
       "  <thead>\n",
       "    <tr style=\"text-align: right;\">\n",
       "      <th></th>\n",
       "      <th>comment_id</th>\n",
       "      <th>text</th>\n",
       "    </tr>\n",
       "  </thead>\n",
       "  <tbody>\n",
       "    <tr>\n",
       "      <th>0</th>\n",
       "      <td>114890</td>\n",
       "      <td>\"\\n \\n\\nGjalexei, you asked about whether ther...</td>\n",
       "    </tr>\n",
       "    <tr>\n",
       "      <th>1</th>\n",
       "      <td>732895</td>\n",
       "      <td>Looks like be have an abuser , can you please ...</td>\n",
       "    </tr>\n",
       "    <tr>\n",
       "      <th>2</th>\n",
       "      <td>1139051</td>\n",
       "      <td>I confess to having complete (and apparently b...</td>\n",
       "    </tr>\n",
       "    <tr>\n",
       "      <th>3</th>\n",
       "      <td>1434512</td>\n",
       "      <td>\"\\n\\nFreud's ideas are certainly much discusse...</td>\n",
       "    </tr>\n",
       "    <tr>\n",
       "      <th>4</th>\n",
       "      <td>2084821</td>\n",
       "      <td>It is not just you. This is a laundry list of ...</td>\n",
       "    </tr>\n",
       "  </tbody>\n",
       "</table>\n",
       "</div>"
      ],
      "text/plain": [
       "   comment_id                                               text\n",
       "0      114890  \"\\n \\n\\nGjalexei, you asked about whether ther...\n",
       "1      732895  Looks like be have an abuser , can you please ...\n",
       "2     1139051  I confess to having complete (and apparently b...\n",
       "3     1434512  \"\\n\\nFreud's ideas are certainly much discusse...\n",
       "4     2084821  It is not just you. This is a laundry list of ..."
      ]
     },
     "execution_count": 4,
     "metadata": {},
     "output_type": "execute_result"
    }
   ],
   "source": [
    "df_jigsaw.head()"
   ]
  },
  {
   "cell_type": "code",
   "execution_count": 5,
   "id": "c795f6fe",
   "metadata": {
    "execution": {
     "iopub.execute_input": "2022-01-23T17:38:48.462406Z",
     "iopub.status.busy": "2022-01-23T17:38:48.461925Z",
     "iopub.status.idle": "2022-01-23T17:38:48.544288Z",
     "shell.execute_reply": "2022-01-23T17:38:48.543838Z",
     "shell.execute_reply.started": "2022-01-23T17:36:22.825087Z"
    },
    "papermill": {
     "duration": 0.108959,
     "end_time": "2022-01-23T17:38:48.544401",
     "exception": false,
     "start_time": "2022-01-23T17:38:48.435442",
     "status": "completed"
    },
    "tags": []
   },
   "outputs": [],
   "source": [
    "df_ruddit = pd.read_csv('../input/ruddit-jigsaw-dataset/Dataset/ruddit_with_text.csv')[['comment_id', 'txt', 'offensiveness_score']]\n",
    "df_ruddit = df_ruddit.loc[(df_ruddit.txt != '[deleted]') & (df_ruddit.txt != '[removed]')]"
   ]
  },
  {
   "cell_type": "code",
   "execution_count": 6,
   "id": "090ef42f",
   "metadata": {
    "execution": {
     "iopub.execute_input": "2022-01-23T17:38:48.600785Z",
     "iopub.status.busy": "2022-01-23T17:38:48.599618Z",
     "iopub.status.idle": "2022-01-23T17:38:48.602833Z",
     "shell.execute_reply": "2022-01-23T17:38:48.603267Z",
     "shell.execute_reply.started": "2022-01-23T17:36:22.948194Z"
    },
    "papermill": {
     "duration": 0.03563,
     "end_time": "2022-01-23T17:38:48.603381",
     "exception": false,
     "start_time": "2022-01-23T17:38:48.567751",
     "status": "completed"
    },
    "tags": []
   },
   "outputs": [
    {
     "data": {
      "text/html": [
       "<div>\n",
       "<style scoped>\n",
       "    .dataframe tbody tr th:only-of-type {\n",
       "        vertical-align: middle;\n",
       "    }\n",
       "\n",
       "    .dataframe tbody tr th {\n",
       "        vertical-align: top;\n",
       "    }\n",
       "\n",
       "    .dataframe thead th {\n",
       "        text-align: right;\n",
       "    }\n",
       "</style>\n",
       "<table border=\"1\" class=\"dataframe\">\n",
       "  <thead>\n",
       "    <tr style=\"text-align: right;\">\n",
       "      <th></th>\n",
       "      <th>comment_id</th>\n",
       "      <th>txt</th>\n",
       "      <th>offensiveness_score</th>\n",
       "    </tr>\n",
       "  </thead>\n",
       "  <tbody>\n",
       "    <tr>\n",
       "      <th>0</th>\n",
       "      <td>cza1q49</td>\n",
       "      <td>&gt; The difference in average earnings between m...</td>\n",
       "      <td>-0.083</td>\n",
       "    </tr>\n",
       "    <tr>\n",
       "      <th>1</th>\n",
       "      <td>cza1wdh</td>\n",
       "      <td>The myth is that the \"gap\" is entirely based o...</td>\n",
       "      <td>-0.022</td>\n",
       "    </tr>\n",
       "    <tr>\n",
       "      <th>3</th>\n",
       "      <td>cza2bw8</td>\n",
       "      <td>The assertion is that women get paid less for ...</td>\n",
       "      <td>-0.146</td>\n",
       "    </tr>\n",
       "    <tr>\n",
       "      <th>4</th>\n",
       "      <td>cza2iji</td>\n",
       "      <td>You said in the OP that's not what they're mea...</td>\n",
       "      <td>-0.083</td>\n",
       "    </tr>\n",
       "    <tr>\n",
       "      <th>5</th>\n",
       "      <td>cza2jj3</td>\n",
       "      <td>&gt;Men and women are not payed less for the same...</td>\n",
       "      <td>-0.042</td>\n",
       "    </tr>\n",
       "  </tbody>\n",
       "</table>\n",
       "</div>"
      ],
      "text/plain": [
       "  comment_id                                                txt  \\\n",
       "0    cza1q49  > The difference in average earnings between m...   \n",
       "1    cza1wdh  The myth is that the \"gap\" is entirely based o...   \n",
       "3    cza2bw8  The assertion is that women get paid less for ...   \n",
       "4    cza2iji  You said in the OP that's not what they're mea...   \n",
       "5    cza2jj3  >Men and women are not payed less for the same...   \n",
       "\n",
       "   offensiveness_score  \n",
       "0               -0.083  \n",
       "1               -0.022  \n",
       "3               -0.146  \n",
       "4               -0.083  \n",
       "5               -0.042  "
      ]
     },
     "execution_count": 6,
     "metadata": {},
     "output_type": "execute_result"
    }
   ],
   "source": [
    "df_ruddit.head()"
   ]
  },
  {
   "cell_type": "code",
   "execution_count": 7,
   "id": "ab7d70e4",
   "metadata": {
    "execution": {
     "iopub.execute_input": "2022-01-23T17:38:48.659132Z",
     "iopub.status.busy": "2022-01-23T17:38:48.657608Z",
     "iopub.status.idle": "2022-01-23T17:38:48.659751Z",
     "shell.execute_reply": "2022-01-23T17:38:48.660147Z",
     "shell.execute_reply.started": "2022-01-23T17:36:22.982485Z"
    },
    "papermill": {
     "duration": 0.032275,
     "end_time": "2022-01-23T17:38:48.660257",
     "exception": false,
     "start_time": "2022-01-23T17:38:48.627982",
     "status": "completed"
    },
    "tags": []
   },
   "outputs": [],
   "source": [
    "def text_cleaning(text):\n",
    "    '''\n",
    "    Cleans text into a basic form for NLP. Operations include the following:-\n",
    "    1. Remove special charecters like &, #, etc\n",
    "    2. Removes extra spaces\n",
    "    3. Removes embedded URL links\n",
    "    4. Removes HTML tags\n",
    "    5. Removes emojis\n",
    "    \n",
    "    text - Text piece to be cleaned.\n",
    "    '''\n",
    "    template = re.compile(r'https?://\\S+|www\\.\\S+') #Removes website links\n",
    "    text = template.sub(r'', text)\n",
    "    \n",
    "    soup = BeautifulSoup(text, 'lxml') #Removes HTML tags\n",
    "    only_text = soup.get_text()\n",
    "    text = only_text\n",
    "    \n",
    "    emoji_pattern = re.compile(\"[\"\n",
    "                               u\"\\U0001F600-\\U0001F64F\"  # emoticons\n",
    "                               u\"\\U0001F300-\\U0001F5FF\"  # symbols & pictographs\n",
    "                               u\"\\U0001F680-\\U0001F6FF\"  # transport & map symbols\n",
    "                               u\"\\U0001F1E0-\\U0001F1FF\"  # flags (iOS)\n",
    "                               u\"\\U00002702-\\U000027B0\"\n",
    "                               u\"\\U000024C2-\\U0001F251\"\n",
    "                               \"]+\", flags=re.UNICODE)\n",
    "    text = emoji_pattern.sub(r'', text)\n",
    "    \n",
    "    text = re.sub(r\"[^a-zA-Z\\d]\", \" \", text) #Remove special Charecters\n",
    "    text = re.sub(' +', ' ', text) #Remove Extra Spaces\n",
    "    text = text.strip() # remove spaces at the beginning and at the end of string\n",
    "\n",
    "    return text"
   ]
  },
  {
   "cell_type": "code",
   "execution_count": 8,
   "id": "31187692",
   "metadata": {
    "execution": {
     "iopub.execute_input": "2022-01-23T17:38:48.718091Z",
     "iopub.status.busy": "2022-01-23T17:38:48.713142Z",
     "iopub.status.idle": "2022-01-23T17:38:52.409450Z",
     "shell.execute_reply": "2022-01-23T17:38:52.408870Z",
     "shell.execute_reply.started": "2022-01-23T17:36:23.004045Z"
    },
    "papermill": {
     "duration": 3.724864,
     "end_time": "2022-01-23T17:38:52.409593",
     "exception": false,
     "start_time": "2022-01-23T17:38:48.684729",
     "status": "completed"
    },
    "tags": []
   },
   "outputs": [],
   "source": [
    "df_jigsaw.text = df_jigsaw.text.apply(text_cleaning)\n",
    "df_ruddit.txt = df_ruddit.txt.apply(text_cleaning)"
   ]
  },
  {
   "cell_type": "code",
   "execution_count": 9,
   "id": "bfb6bcd0",
   "metadata": {
    "execution": {
     "iopub.execute_input": "2022-01-23T17:38:52.464538Z",
     "iopub.status.busy": "2022-01-23T17:38:52.458835Z",
     "iopub.status.idle": "2022-01-23T17:38:52.467109Z",
     "shell.execute_reply": "2022-01-23T17:38:52.467496Z",
     "shell.execute_reply.started": "2022-01-23T17:36:26.908763Z"
    },
    "papermill": {
     "duration": 0.034369,
     "end_time": "2022-01-23T17:38:52.467649",
     "exception": false,
     "start_time": "2022-01-23T17:38:52.433280",
     "status": "completed"
    },
    "tags": []
   },
   "outputs": [
    {
     "data": {
      "text/html": [
       "<div>\n",
       "<style scoped>\n",
       "    .dataframe tbody tr th:only-of-type {\n",
       "        vertical-align: middle;\n",
       "    }\n",
       "\n",
       "    .dataframe tbody tr th {\n",
       "        vertical-align: top;\n",
       "    }\n",
       "\n",
       "    .dataframe thead th {\n",
       "        text-align: right;\n",
       "    }\n",
       "</style>\n",
       "<table border=\"1\" class=\"dataframe\">\n",
       "  <thead>\n",
       "    <tr style=\"text-align: right;\">\n",
       "      <th></th>\n",
       "      <th>comment_id</th>\n",
       "      <th>text</th>\n",
       "    </tr>\n",
       "  </thead>\n",
       "  <tbody>\n",
       "    <tr>\n",
       "      <th>0</th>\n",
       "      <td>114890</td>\n",
       "      <td>Gjalexei you asked about whether there is an a...</td>\n",
       "    </tr>\n",
       "    <tr>\n",
       "      <th>1</th>\n",
       "      <td>732895</td>\n",
       "      <td>Looks like be have an abuser can you please lo...</td>\n",
       "    </tr>\n",
       "    <tr>\n",
       "      <th>2</th>\n",
       "      <td>1139051</td>\n",
       "      <td>I confess to having complete and apparently bl...</td>\n",
       "    </tr>\n",
       "    <tr>\n",
       "      <th>3</th>\n",
       "      <td>1434512</td>\n",
       "      <td>Freud s ideas are certainly much discussed tod...</td>\n",
       "    </tr>\n",
       "    <tr>\n",
       "      <th>4</th>\n",
       "      <td>2084821</td>\n",
       "      <td>It is not just you This is a laundry list of s...</td>\n",
       "    </tr>\n",
       "  </tbody>\n",
       "</table>\n",
       "</div>"
      ],
      "text/plain": [
       "   comment_id                                               text\n",
       "0      114890  Gjalexei you asked about whether there is an a...\n",
       "1      732895  Looks like be have an abuser can you please lo...\n",
       "2     1139051  I confess to having complete and apparently bl...\n",
       "3     1434512  Freud s ideas are certainly much discussed tod...\n",
       "4     2084821  It is not just you This is a laundry list of s..."
      ]
     },
     "execution_count": 9,
     "metadata": {},
     "output_type": "execute_result"
    }
   ],
   "source": [
    "df_jigsaw.head()"
   ]
  },
  {
   "cell_type": "code",
   "execution_count": 10,
   "id": "ebf88589",
   "metadata": {
    "execution": {
     "iopub.execute_input": "2022-01-23T17:38:52.524187Z",
     "iopub.status.busy": "2022-01-23T17:38:52.523516Z",
     "iopub.status.idle": "2022-01-23T17:38:52.526297Z",
     "shell.execute_reply": "2022-01-23T17:38:52.526719Z",
     "shell.execute_reply.started": "2022-01-23T17:36:26.919670Z"
    },
    "papermill": {
     "duration": 0.034908,
     "end_time": "2022-01-23T17:38:52.526838",
     "exception": false,
     "start_time": "2022-01-23T17:38:52.491930",
     "status": "completed"
    },
    "tags": []
   },
   "outputs": [
    {
     "data": {
      "text/html": [
       "<div>\n",
       "<style scoped>\n",
       "    .dataframe tbody tr th:only-of-type {\n",
       "        vertical-align: middle;\n",
       "    }\n",
       "\n",
       "    .dataframe tbody tr th {\n",
       "        vertical-align: top;\n",
       "    }\n",
       "\n",
       "    .dataframe thead th {\n",
       "        text-align: right;\n",
       "    }\n",
       "</style>\n",
       "<table border=\"1\" class=\"dataframe\">\n",
       "  <thead>\n",
       "    <tr style=\"text-align: right;\">\n",
       "      <th></th>\n",
       "      <th>comment_id</th>\n",
       "      <th>txt</th>\n",
       "      <th>offensiveness_score</th>\n",
       "    </tr>\n",
       "  </thead>\n",
       "  <tbody>\n",
       "    <tr>\n",
       "      <th>0</th>\n",
       "      <td>cza1q49</td>\n",
       "      <td>The difference in average earnings between men...</td>\n",
       "      <td>-0.083</td>\n",
       "    </tr>\n",
       "    <tr>\n",
       "      <th>1</th>\n",
       "      <td>cza1wdh</td>\n",
       "      <td>The myth is that the gap is entirely based on ...</td>\n",
       "      <td>-0.022</td>\n",
       "    </tr>\n",
       "    <tr>\n",
       "      <th>3</th>\n",
       "      <td>cza2bw8</td>\n",
       "      <td>The assertion is that women get paid less for ...</td>\n",
       "      <td>-0.146</td>\n",
       "    </tr>\n",
       "    <tr>\n",
       "      <th>4</th>\n",
       "      <td>cza2iji</td>\n",
       "      <td>You said in the OP that s not what they re mea...</td>\n",
       "      <td>-0.083</td>\n",
       "    </tr>\n",
       "    <tr>\n",
       "      <th>5</th>\n",
       "      <td>cza2jj3</td>\n",
       "      <td>Men and women are not payed less for the same ...</td>\n",
       "      <td>-0.042</td>\n",
       "    </tr>\n",
       "  </tbody>\n",
       "</table>\n",
       "</div>"
      ],
      "text/plain": [
       "  comment_id                                                txt  \\\n",
       "0    cza1q49  The difference in average earnings between men...   \n",
       "1    cza1wdh  The myth is that the gap is entirely based on ...   \n",
       "3    cza2bw8  The assertion is that women get paid less for ...   \n",
       "4    cza2iji  You said in the OP that s not what they re mea...   \n",
       "5    cza2jj3  Men and women are not payed less for the same ...   \n",
       "\n",
       "   offensiveness_score  \n",
       "0               -0.083  \n",
       "1               -0.022  \n",
       "3               -0.146  \n",
       "4               -0.083  \n",
       "5               -0.042  "
      ]
     },
     "execution_count": 10,
     "metadata": {},
     "output_type": "execute_result"
    }
   ],
   "source": [
    "df_ruddit.head()"
   ]
  },
  {
   "cell_type": "code",
   "execution_count": 11,
   "id": "7b4dc01e",
   "metadata": {
    "execution": {
     "iopub.execute_input": "2022-01-23T17:38:52.582016Z",
     "iopub.status.busy": "2022-01-23T17:38:52.581335Z",
     "iopub.status.idle": "2022-01-23T17:38:52.583465Z",
     "shell.execute_reply": "2022-01-23T17:38:52.583948Z",
     "shell.execute_reply.started": "2022-01-23T17:36:26.942391Z"
    },
    "papermill": {
     "duration": 0.030257,
     "end_time": "2022-01-23T17:38:52.584068",
     "exception": false,
     "start_time": "2022-01-23T17:38:52.553811",
     "status": "completed"
    },
    "tags": []
   },
   "outputs": [],
   "source": [
    "ru_toxic_score = df_ruddit[\"offensiveness_score\"].values"
   ]
  },
  {
   "cell_type": "code",
   "execution_count": 12,
   "id": "561e38b9",
   "metadata": {
    "execution": {
     "iopub.execute_input": "2022-01-23T17:38:52.636996Z",
     "iopub.status.busy": "2022-01-23T17:38:52.636338Z",
     "iopub.status.idle": "2022-01-23T17:38:52.638945Z",
     "shell.execute_reply": "2022-01-23T17:38:52.639474Z",
     "shell.execute_reply.started": "2022-01-23T17:36:26.949726Z"
    },
    "papermill": {
     "duration": 0.031754,
     "end_time": "2022-01-23T17:38:52.639655",
     "exception": false,
     "start_time": "2022-01-23T17:38:52.607901",
     "status": "completed"
    },
    "tags": []
   },
   "outputs": [
    {
     "data": {
      "text/plain": [
       "array([-0.083, -0.022, -0.146, ..., -0.292,  0.333, -0.625])"
      ]
     },
     "execution_count": 12,
     "metadata": {},
     "output_type": "execute_result"
    }
   ],
   "source": [
    "ru_toxic_score"
   ]
  },
  {
   "cell_type": "code",
   "execution_count": 13,
   "id": "6c014f9a",
   "metadata": {
    "execution": {
     "iopub.execute_input": "2022-01-23T17:38:52.692132Z",
     "iopub.status.busy": "2022-01-23T17:38:52.691556Z",
     "iopub.status.idle": "2022-01-23T17:39:03.260727Z",
     "shell.execute_reply": "2022-01-23T17:39:03.261162Z",
     "shell.execute_reply.started": "2022-01-23T17:36:26.959840Z"
    },
    "papermill": {
     "duration": 10.596897,
     "end_time": "2022-01-23T17:39:03.261321",
     "exception": false,
     "start_time": "2022-01-23T17:38:52.664424",
     "status": "completed"
    },
    "tags": []
   },
   "outputs": [],
   "source": [
    "model = SentenceTransformer('../input/paraphrase-mpnet-base-v2/paraphrase-mpnet-base-v2')"
   ]
  },
  {
   "cell_type": "code",
   "execution_count": 14,
   "id": "9d93cde5",
   "metadata": {
    "execution": {
     "iopub.execute_input": "2022-01-23T17:39:03.315817Z",
     "iopub.status.busy": "2022-01-23T17:39:03.315084Z",
     "iopub.status.idle": "2022-01-23T17:39:03.317083Z",
     "shell.execute_reply": "2022-01-23T17:39:03.317446Z",
     "shell.execute_reply.started": "2022-01-23T17:36:33.053230Z"
    },
    "papermill": {
     "duration": 0.030901,
     "end_time": "2022-01-23T17:39:03.317596",
     "exception": false,
     "start_time": "2022-01-23T17:39:03.286695",
     "status": "completed"
    },
    "tags": []
   },
   "outputs": [],
   "source": [
    "sentences_jigsaw = df_jigsaw.text\n",
    "sentences_ruddit = df_ruddit.txt.reset_index(drop=True)"
   ]
  },
  {
   "cell_type": "code",
   "execution_count": 15,
   "id": "d2ba3386",
   "metadata": {
    "execution": {
     "iopub.execute_input": "2022-01-23T17:39:03.371785Z",
     "iopub.status.busy": "2022-01-23T17:39:03.371149Z",
     "iopub.status.idle": "2022-01-23T17:39:03.373705Z",
     "shell.execute_reply": "2022-01-23T17:39:03.374105Z",
     "shell.execute_reply.started": "2022-01-23T17:36:33.060210Z"
    },
    "papermill": {
     "duration": 0.032508,
     "end_time": "2022-01-23T17:39:03.374214",
     "exception": false,
     "start_time": "2022-01-23T17:39:03.341706",
     "status": "completed"
    },
    "tags": []
   },
   "outputs": [
    {
     "data": {
      "text/plain": [
       "0       Gjalexei you asked about whether there is an a...\n",
       "1       Looks like be have an abuser can you please lo...\n",
       "2       I confess to having complete and apparently bl...\n",
       "3       Freud s ideas are certainly much discussed tod...\n",
       "4       It is not just you This is a laundry list of s...\n",
       "                              ...                        \n",
       "7532                          Go away you annoying vandal\n",
       "7533                                This user is a vandal\n",
       "7534    Sorry to sound like a pain but one by followin...\n",
       "7535    Well it s pretty fucking irrelevant now I m un...\n",
       "7536    The team name is Great Britain and Northern Ir...\n",
       "Name: text, Length: 7537, dtype: object"
      ]
     },
     "execution_count": 15,
     "metadata": {},
     "output_type": "execute_result"
    }
   ],
   "source": [
    "sentences_jigsaw"
   ]
  },
  {
   "cell_type": "code",
   "execution_count": 16,
   "id": "e34d2141",
   "metadata": {
    "execution": {
     "iopub.execute_input": "2022-01-23T17:39:03.445789Z",
     "iopub.status.busy": "2022-01-23T17:39:03.444920Z",
     "iopub.status.idle": "2022-01-23T17:39:03.447880Z",
     "shell.execute_reply": "2022-01-23T17:39:03.448272Z",
     "shell.execute_reply.started": "2022-01-23T17:36:33.070944Z"
    },
    "papermill": {
     "duration": 0.049834,
     "end_time": "2022-01-23T17:39:03.448381",
     "exception": false,
     "start_time": "2022-01-23T17:39:03.398547",
     "status": "completed"
    },
    "tags": []
   },
   "outputs": [
    {
     "data": {
      "text/plain": [
       "0       The difference in average earnings between men...\n",
       "1       The myth is that the gap is entirely based on ...\n",
       "2       The assertion is that women get paid less for ...\n",
       "3       You said in the OP that s not what they re mea...\n",
       "4       Men and women are not payed less for the same ...\n",
       "                              ...                        \n",
       "5705    They should only censor things that talk badly...\n",
       "5706    and one of them is a woman OH SHIT we better b...\n",
       "5707                    how is this flared as US politics\n",
       "5708    People in Hong Kong must decide if they are go...\n",
       "5709    I know this is an old post but I saw him last ...\n",
       "Name: txt, Length: 5710, dtype: object"
      ]
     },
     "execution_count": 16,
     "metadata": {},
     "output_type": "execute_result"
    }
   ],
   "source": [
    "sentences_ruddit"
   ]
  },
  {
   "cell_type": "code",
   "execution_count": 17,
   "id": "bdb73d0e",
   "metadata": {
    "execution": {
     "iopub.execute_input": "2022-01-23T17:39:03.502084Z",
     "iopub.status.busy": "2022-01-23T17:39:03.501472Z",
     "iopub.status.idle": "2022-01-23T17:39:03.505724Z",
     "shell.execute_reply": "2022-01-23T17:39:03.506350Z",
     "shell.execute_reply.started": "2022-01-23T17:36:33.082453Z"
    },
    "papermill": {
     "duration": 0.033307,
     "end_time": "2022-01-23T17:39:03.506508",
     "exception": false,
     "start_time": "2022-01-23T17:39:03.473201",
     "status": "completed"
    },
    "scrolled": true,
    "tags": []
   },
   "outputs": [
    {
     "name": "stdout",
     "output_type": "stream",
     "text": [
      "It is not just you This is a laundry list of stupid allegations scooped up from god knows where Probably two thirds of it has little basis in fact\n",
      "\n",
      "Men and women are not payed less for the same job I don t think many people say this is the case though I think this is a misconception on the other side not something feminists have said Even if women have a lower average wage in all jobs than men I mean that s even bigger than individual cases This shows that women are in an inferior position more than if a woman were to get literally 30 cents less Because averages show the bigger picture Edit Changed 70 to 30\n"
     ]
    }
   ],
   "source": [
    "print(sentences_jigsaw[4])\n",
    "print()\n",
    "print(sentences_ruddit[4])"
   ]
  },
  {
   "cell_type": "code",
   "execution_count": 18,
   "id": "bc4c3d08",
   "metadata": {
    "execution": {
     "iopub.execute_input": "2022-01-23T17:39:03.563803Z",
     "iopub.status.busy": "2022-01-23T17:39:03.563262Z",
     "iopub.status.idle": "2022-01-23T17:39:33.175353Z",
     "shell.execute_reply": "2022-01-23T17:39:33.174925Z",
     "shell.execute_reply.started": "2022-01-23T17:36:33.090719Z"
    },
    "papermill": {
     "duration": 29.642841,
     "end_time": "2022-01-23T17:39:33.175478",
     "exception": false,
     "start_time": "2022-01-23T17:39:03.532637",
     "status": "completed"
    },
    "tags": []
   },
   "outputs": [
    {
     "data": {
      "application/vnd.jupyter.widget-view+json": {
       "model_id": "a9152185398c47c988294610280959a2",
       "version_major": 2,
       "version_minor": 0
      },
      "text/plain": [
       "Batches:   0%|          | 0/236 [00:00<?, ?it/s]"
      ]
     },
     "metadata": {},
     "output_type": "display_data"
    }
   ],
   "source": [
    "embeddings_jigsaw = model.encode(sentences_jigsaw, convert_to_tensor=True)"
   ]
  },
  {
   "cell_type": "code",
   "execution_count": 19,
   "id": "164c29db",
   "metadata": {
    "execution": {
     "iopub.execute_input": "2022-01-23T17:39:33.231415Z",
     "iopub.status.busy": "2022-01-23T17:39:33.230097Z",
     "iopub.status.idle": "2022-01-23T17:39:33.237222Z",
     "shell.execute_reply": "2022-01-23T17:39:33.236791Z",
     "shell.execute_reply.started": "2022-01-23T17:37:02.895813Z"
    },
    "papermill": {
     "duration": 0.035682,
     "end_time": "2022-01-23T17:39:33.237329",
     "exception": false,
     "start_time": "2022-01-23T17:39:33.201647",
     "status": "completed"
    },
    "tags": []
   },
   "outputs": [],
   "source": [
    "embeddings_jigsaw = embeddings_jigsaw.to('cuda')\n",
    "embeddings = util.normalize_embeddings(embeddings_jigsaw)"
   ]
  },
  {
   "cell_type": "code",
   "execution_count": 20,
   "id": "66192297",
   "metadata": {
    "execution": {
     "iopub.execute_input": "2022-01-23T17:39:33.293820Z",
     "iopub.status.busy": "2022-01-23T17:39:33.293041Z",
     "iopub.status.idle": "2022-01-23T17:39:42.700101Z",
     "shell.execute_reply": "2022-01-23T17:39:42.699678Z",
     "shell.execute_reply.started": "2022-01-23T17:37:02.908704Z"
    },
    "papermill": {
     "duration": 9.436953,
     "end_time": "2022-01-23T17:39:42.700226",
     "exception": false,
     "start_time": "2022-01-23T17:39:33.263273",
     "status": "completed"
    },
    "tags": []
   },
   "outputs": [
    {
     "data": {
      "application/vnd.jupyter.widget-view+json": {
       "model_id": "7ab66d8c0ae34d8ea492f69f404a9425",
       "version_major": 2,
       "version_minor": 0
      },
      "text/plain": [
       "Batches:   0%|          | 0/179 [00:00<?, ?it/s]"
      ]
     },
     "metadata": {},
     "output_type": "display_data"
    }
   ],
   "source": [
    "embeddings_ruddit = model.encode(sentences_ruddit, convert_to_tensor=True)"
   ]
  },
  {
   "cell_type": "code",
   "execution_count": 21,
   "id": "f4906424",
   "metadata": {
    "execution": {
     "iopub.execute_input": "2022-01-23T17:39:42.758050Z",
     "iopub.status.busy": "2022-01-23T17:39:42.756793Z",
     "iopub.status.idle": "2022-01-23T17:39:42.758919Z",
     "shell.execute_reply": "2022-01-23T17:39:42.759313Z",
     "shell.execute_reply.started": "2022-01-23T17:37:12.388085Z"
    },
    "papermill": {
     "duration": 0.03265,
     "end_time": "2022-01-23T17:39:42.759435",
     "exception": false,
     "start_time": "2022-01-23T17:39:42.726785",
     "status": "completed"
    },
    "tags": []
   },
   "outputs": [],
   "source": [
    "embeddings_ruddit = embeddings_ruddit.to('cuda')\n",
    "embeddings_ruddit = util.normalize_embeddings(embeddings_ruddit)"
   ]
  },
  {
   "cell_type": "code",
   "execution_count": 22,
   "id": "3caf4be8",
   "metadata": {
    "execution": {
     "iopub.execute_input": "2022-01-23T17:39:42.814726Z",
     "iopub.status.busy": "2022-01-23T17:39:42.814017Z",
     "iopub.status.idle": "2022-01-23T17:39:42.816064Z",
     "shell.execute_reply": "2022-01-23T17:39:42.816450Z",
     "shell.execute_reply.started": "2022-01-23T17:37:12.395351Z"
    },
    "papermill": {
     "duration": 0.031139,
     "end_time": "2022-01-23T17:39:42.816586",
     "exception": false,
     "start_time": "2022-01-23T17:39:42.785447",
     "status": "completed"
    },
    "tags": []
   },
   "outputs": [],
   "source": [
    "top_K = 10"
   ]
  },
  {
   "cell_type": "code",
   "execution_count": 23,
   "id": "b6e7238d",
   "metadata": {
    "execution": {
     "iopub.execute_input": "2022-01-23T17:39:42.873663Z",
     "iopub.status.busy": "2022-01-23T17:39:42.873101Z",
     "iopub.status.idle": "2022-01-23T17:39:42.990592Z",
     "shell.execute_reply": "2022-01-23T17:39:42.989968Z",
     "shell.execute_reply.started": "2022-01-23T17:37:12.404563Z"
    },
    "papermill": {
     "duration": 0.148434,
     "end_time": "2022-01-23T17:39:42.990717",
     "exception": false,
     "start_time": "2022-01-23T17:39:42.842283",
     "status": "completed"
    },
    "tags": []
   },
   "outputs": [],
   "source": [
    "hits = util.semantic_search(embeddings_jigsaw, embeddings_ruddit, top_k=top_K)"
   ]
  },
  {
   "cell_type": "code",
   "execution_count": 24,
   "id": "c968f4ba",
   "metadata": {
    "execution": {
     "iopub.execute_input": "2022-01-23T17:39:43.050243Z",
     "iopub.status.busy": "2022-01-23T17:39:43.049557Z",
     "iopub.status.idle": "2022-01-23T17:39:43.052685Z",
     "shell.execute_reply": "2022-01-23T17:39:43.053088Z",
     "shell.execute_reply.started": "2022-01-23T17:37:12.533308Z"
    },
    "papermill": {
     "duration": 0.035821,
     "end_time": "2022-01-23T17:39:43.053212",
     "exception": false,
     "start_time": "2022-01-23T17:39:43.017391",
     "status": "completed"
    },
    "tags": []
   },
   "outputs": [
    {
     "data": {
      "text/plain": [
       "[{'corpus_id': 533, 'score': 0.5917389392852783},\n",
       " {'corpus_id': 3375, 'score': 0.5538870692253113},\n",
       " {'corpus_id': 3933, 'score': 0.5530230402946472},\n",
       " {'corpus_id': 5310, 'score': 0.5463874936103821},\n",
       " {'corpus_id': 845, 'score': 0.5418612360954285},\n",
       " {'corpus_id': 5318, 'score': 0.5384334325790405},\n",
       " {'corpus_id': 3158, 'score': 0.5310785174369812},\n",
       " {'corpus_id': 506, 'score': 0.521647572517395},\n",
       " {'corpus_id': 4959, 'score': 0.5050034523010254},\n",
       " {'corpus_id': 645, 'score': 0.5027069449424744}]"
      ]
     },
     "execution_count": 24,
     "metadata": {},
     "output_type": "execute_result"
    }
   ],
   "source": [
    "hits[0][0:10]"
   ]
  },
  {
   "cell_type": "code",
   "execution_count": 25,
   "id": "c677c98d",
   "metadata": {
    "execution": {
     "iopub.execute_input": "2022-01-23T17:39:43.110175Z",
     "iopub.status.busy": "2022-01-23T17:39:43.109674Z",
     "iopub.status.idle": "2022-01-23T17:39:43.113245Z",
     "shell.execute_reply": "2022-01-23T17:39:43.112825Z",
     "shell.execute_reply.started": "2022-01-23T17:37:12.541588Z"
    },
    "papermill": {
     "duration": 0.03398,
     "end_time": "2022-01-23T17:39:43.113346",
     "exception": false,
     "start_time": "2022-01-23T17:39:43.079366",
     "status": "completed"
    },
    "tags": []
   },
   "outputs": [],
   "source": [
    "def check(idx, top_K):\n",
    "    c = 0\n",
    "    for i in range(top_K):\n",
    "        more_score = ru_toxic_score[hits[idx][i][\"corpus_id\"]]\n",
    "        c+=more_score#*more_w\n",
    "    return c/top_K"
   ]
  },
  {
   "cell_type": "code",
   "execution_count": 26,
   "id": "d9509899",
   "metadata": {
    "execution": {
     "iopub.execute_input": "2022-01-23T17:39:43.198653Z",
     "iopub.status.busy": "2022-01-23T17:39:43.188138Z",
     "iopub.status.idle": "2022-01-23T17:39:43.233618Z",
     "shell.execute_reply": "2022-01-23T17:39:43.233169Z",
     "shell.execute_reply.started": "2022-01-23T17:37:12.551159Z"
    },
    "papermill": {
     "duration": 0.094141,
     "end_time": "2022-01-23T17:39:43.233728",
     "exception": false,
     "start_time": "2022-01-23T17:39:43.139587",
     "status": "completed"
    },
    "tags": []
   },
   "outputs": [],
   "source": [
    "sentence_sore = np.empty(len(df_jigsaw))\n",
    "\n",
    "for i in range(len(df_jigsaw)):\n",
    "    sentence_sore[i]=check(i, top_K)"
   ]
  },
  {
   "cell_type": "code",
   "execution_count": 27,
   "id": "b25fcacf",
   "metadata": {
    "execution": {
     "iopub.execute_input": "2022-01-23T17:39:43.291401Z",
     "iopub.status.busy": "2022-01-23T17:39:43.289904Z",
     "iopub.status.idle": "2022-01-23T17:39:43.292044Z",
     "shell.execute_reply": "2022-01-23T17:39:43.292481Z",
     "shell.execute_reply.started": "2022-01-23T17:37:12.620999Z"
    },
    "papermill": {
     "duration": 0.032688,
     "end_time": "2022-01-23T17:39:43.292681",
     "exception": false,
     "start_time": "2022-01-23T17:39:43.259993",
     "status": "completed"
    },
    "tags": []
   },
   "outputs": [],
   "source": [
    "df = df_jigsaw.copy()"
   ]
  },
  {
   "cell_type": "code",
   "execution_count": 28,
   "id": "78d62fea",
   "metadata": {
    "execution": {
     "iopub.execute_input": "2022-01-23T17:39:43.354389Z",
     "iopub.status.busy": "2022-01-23T17:39:43.353510Z",
     "iopub.status.idle": "2022-01-23T17:39:43.357692Z",
     "shell.execute_reply": "2022-01-23T17:39:43.357219Z",
     "shell.execute_reply.started": "2022-01-23T17:37:12.627109Z"
    },
    "papermill": {
     "duration": 0.038346,
     "end_time": "2022-01-23T17:39:43.357797",
     "exception": false,
     "start_time": "2022-01-23T17:39:43.319451",
     "status": "completed"
    },
    "tags": []
   },
   "outputs": [
    {
     "data": {
      "text/html": [
       "<div>\n",
       "<style scoped>\n",
       "    .dataframe tbody tr th:only-of-type {\n",
       "        vertical-align: middle;\n",
       "    }\n",
       "\n",
       "    .dataframe tbody tr th {\n",
       "        vertical-align: top;\n",
       "    }\n",
       "\n",
       "    .dataframe thead th {\n",
       "        text-align: right;\n",
       "    }\n",
       "</style>\n",
       "<table border=\"1\" class=\"dataframe\">\n",
       "  <thead>\n",
       "    <tr style=\"text-align: right;\">\n",
       "      <th></th>\n",
       "      <th>comment_id</th>\n",
       "      <th>text</th>\n",
       "      <th>score</th>\n",
       "    </tr>\n",
       "  </thead>\n",
       "  <tbody>\n",
       "    <tr>\n",
       "      <th>0</th>\n",
       "      <td>114890</td>\n",
       "      <td>Gjalexei you asked about whether there is an a...</td>\n",
       "      <td>-0.0351</td>\n",
       "    </tr>\n",
       "    <tr>\n",
       "      <th>1</th>\n",
       "      <td>732895</td>\n",
       "      <td>Looks like be have an abuser can you please lo...</td>\n",
       "      <td>-0.0146</td>\n",
       "    </tr>\n",
       "    <tr>\n",
       "      <th>2</th>\n",
       "      <td>1139051</td>\n",
       "      <td>I confess to having complete and apparently bl...</td>\n",
       "      <td>0.0105</td>\n",
       "    </tr>\n",
       "    <tr>\n",
       "      <th>3</th>\n",
       "      <td>1434512</td>\n",
       "      <td>Freud s ideas are certainly much discussed tod...</td>\n",
       "      <td>-0.1157</td>\n",
       "    </tr>\n",
       "    <tr>\n",
       "      <th>4</th>\n",
       "      <td>2084821</td>\n",
       "      <td>It is not just you This is a laundry list of s...</td>\n",
       "      <td>0.2928</td>\n",
       "    </tr>\n",
       "  </tbody>\n",
       "</table>\n",
       "</div>"
      ],
      "text/plain": [
       "   comment_id                                               text   score\n",
       "0      114890  Gjalexei you asked about whether there is an a... -0.0351\n",
       "1      732895  Looks like be have an abuser can you please lo... -0.0146\n",
       "2     1139051  I confess to having complete and apparently bl...  0.0105\n",
       "3     1434512  Freud s ideas are certainly much discussed tod... -0.1157\n",
       "4     2084821  It is not just you This is a laundry list of s...  0.2928"
      ]
     },
     "execution_count": 28,
     "metadata": {},
     "output_type": "execute_result"
    }
   ],
   "source": [
    "df['score'] = sentence_sore\n",
    "df.head()"
   ]
  },
  {
   "cell_type": "code",
   "execution_count": 29,
   "id": "452b600d",
   "metadata": {
    "execution": {
     "iopub.execute_input": "2022-01-23T17:39:43.418345Z",
     "iopub.status.busy": "2022-01-23T17:39:43.417727Z",
     "iopub.status.idle": "2022-01-23T17:39:43.430062Z",
     "shell.execute_reply": "2022-01-23T17:39:43.429622Z",
     "shell.execute_reply.started": "2022-01-23T17:37:12.645547Z"
    },
    "papermill": {
     "duration": 0.045018,
     "end_time": "2022-01-23T17:39:43.430173",
     "exception": false,
     "start_time": "2022-01-23T17:39:43.385155",
     "status": "completed"
    },
    "tags": []
   },
   "outputs": [
    {
     "data": {
      "text/html": [
       "<div>\n",
       "<style scoped>\n",
       "    .dataframe tbody tr th:only-of-type {\n",
       "        vertical-align: middle;\n",
       "    }\n",
       "\n",
       "    .dataframe tbody tr th {\n",
       "        vertical-align: top;\n",
       "    }\n",
       "\n",
       "    .dataframe thead th {\n",
       "        text-align: right;\n",
       "    }\n",
       "</style>\n",
       "<table border=\"1\" class=\"dataframe\">\n",
       "  <thead>\n",
       "    <tr style=\"text-align: right;\">\n",
       "      <th></th>\n",
       "      <th>comment_id</th>\n",
       "      <th>text</th>\n",
       "      <th>score</th>\n",
       "    </tr>\n",
       "  </thead>\n",
       "  <tbody>\n",
       "    <tr>\n",
       "      <th>0</th>\n",
       "      <td>114890</td>\n",
       "      <td>Gjalexei you asked about whether there is an a...</td>\n",
       "      <td>1197.0</td>\n",
       "    </tr>\n",
       "    <tr>\n",
       "      <th>1</th>\n",
       "      <td>732895</td>\n",
       "      <td>Looks like be have an abuser can you please lo...</td>\n",
       "      <td>1399.0</td>\n",
       "    </tr>\n",
       "    <tr>\n",
       "      <th>2</th>\n",
       "      <td>1139051</td>\n",
       "      <td>I confess to having complete and apparently bl...</td>\n",
       "      <td>1698.0</td>\n",
       "    </tr>\n",
       "    <tr>\n",
       "      <th>3</th>\n",
       "      <td>1434512</td>\n",
       "      <td>Freud s ideas are certainly much discussed tod...</td>\n",
       "      <td>575.0</td>\n",
       "    </tr>\n",
       "    <tr>\n",
       "      <th>4</th>\n",
       "      <td>2084821</td>\n",
       "      <td>It is not just you This is a laundry list of s...</td>\n",
       "      <td>5018.0</td>\n",
       "    </tr>\n",
       "  </tbody>\n",
       "</table>\n",
       "</div>"
      ],
      "text/plain": [
       "   comment_id                                               text   score\n",
       "0      114890  Gjalexei you asked about whether there is an a...  1197.0\n",
       "1      732895  Looks like be have an abuser can you please lo...  1399.0\n",
       "2     1139051  I confess to having complete and apparently bl...  1698.0\n",
       "3     1434512  Freud s ideas are certainly much discussed tod...   575.0\n",
       "4     2084821  It is not just you This is a laundry list of s...  5018.0"
      ]
     },
     "execution_count": 29,
     "metadata": {},
     "output_type": "execute_result"
    }
   ],
   "source": [
    "df['score'] = df['score'].rank(method='first')\n",
    "df.head()"
   ]
  },
  {
   "cell_type": "code",
   "execution_count": 30,
   "id": "bd7e148c",
   "metadata": {
    "execution": {
     "iopub.execute_input": "2022-01-23T17:39:43.490368Z",
     "iopub.status.busy": "2022-01-23T17:39:43.489564Z",
     "iopub.status.idle": "2022-01-23T17:39:43.511949Z",
     "shell.execute_reply": "2022-01-23T17:39:43.511500Z",
     "shell.execute_reply.started": "2022-01-23T17:37:12.663303Z"
    },
    "papermill": {
     "duration": 0.053666,
     "end_time": "2022-01-23T17:39:43.512067",
     "exception": false,
     "start_time": "2022-01-23T17:39:43.458401",
     "status": "completed"
    },
    "tags": []
   },
   "outputs": [],
   "source": [
    "df.drop('text', axis=1, inplace=True)\n",
    "df.to_csv(\"submission.csv\", index=False)"
   ]
  },
  {
   "cell_type": "code",
   "execution_count": null,
   "id": "173b31b0",
   "metadata": {
    "papermill": {
     "duration": 0.026923,
     "end_time": "2022-01-23T17:39:43.566620",
     "exception": false,
     "start_time": "2022-01-23T17:39:43.539697",
     "status": "completed"
    },
    "tags": []
   },
   "outputs": [],
   "source": []
  }
 ],
 "metadata": {
  "kernelspec": {
   "display_name": "Python 3",
   "language": "python",
   "name": "python3"
  },
  "language_info": {
   "codemirror_mode": {
    "name": "ipython",
    "version": 3
   },
   "file_extension": ".py",
   "mimetype": "text/x-python",
   "name": "python",
   "nbconvert_exporter": "python",
   "pygments_lexer": "ipython3",
   "version": "3.7.12"
  },
  "papermill": {
   "default_parameters": {},
   "duration": 103.360294,
   "end_time": "2022-01-23T17:39:46.305312",
   "environment_variables": {},
   "exception": null,
   "input_path": "__notebook__.ipynb",
   "output_path": "__notebook__.ipynb",
   "parameters": {},
   "start_time": "2022-01-23T17:38:02.945018",
   "version": "2.3.3"
  },
  "widgets": {
   "application/vnd.jupyter.widget-state+json": {
    "state": {
     "0bcc70ed22c14414a99720d9fd59fde9": {
      "model_module": "@jupyter-widgets/base",
      "model_module_version": "1.2.0",
      "model_name": "LayoutModel",
      "state": {
       "_model_module": "@jupyter-widgets/base",
       "_model_module_version": "1.2.0",
       "_model_name": "LayoutModel",
       "_view_count": null,
       "_view_module": "@jupyter-widgets/base",
       "_view_module_version": "1.2.0",
       "_view_name": "LayoutView",
       "align_content": null,
       "align_items": null,
       "align_self": null,
       "border": null,
       "bottom": null,
       "display": null,
       "flex": null,
       "flex_flow": null,
       "grid_area": null,
       "grid_auto_columns": null,
       "grid_auto_flow": null,
       "grid_auto_rows": null,
       "grid_column": null,
       "grid_gap": null,
       "grid_row": null,
       "grid_template_areas": null,
       "grid_template_columns": null,
       "grid_template_rows": null,
       "height": null,
       "justify_content": null,
       "justify_items": null,
       "left": null,
       "margin": null,
       "max_height": null,
       "max_width": null,
       "min_height": null,
       "min_width": null,
       "object_fit": null,
       "object_position": null,
       "order": null,
       "overflow": null,
       "overflow_x": null,
       "overflow_y": null,
       "padding": null,
       "right": null,
       "top": null,
       "visibility": null,
       "width": null
      }
     },
     "0ea9908f7fa94724a0c21958c5b7e432": {
      "model_module": "@jupyter-widgets/controls",
      "model_module_version": "1.5.0",
      "model_name": "FloatProgressModel",
      "state": {
       "_dom_classes": [],
       "_model_module": "@jupyter-widgets/controls",
       "_model_module_version": "1.5.0",
       "_model_name": "FloatProgressModel",
       "_view_count": null,
       "_view_module": "@jupyter-widgets/controls",
       "_view_module_version": "1.5.0",
       "_view_name": "ProgressView",
       "bar_style": "success",
       "description": "",
       "description_tooltip": null,
       "layout": "IPY_MODEL_7488808732b5472ea2a48979c80d3d2b",
       "max": 236.0,
       "min": 0.0,
       "orientation": "horizontal",
       "style": "IPY_MODEL_c58c25e9c4cc49498f6055ad7be089d3",
       "value": 236.0
      }
     },
     "120f8e885d55414fb2568c5344221a4f": {
      "model_module": "@jupyter-widgets/controls",
      "model_module_version": "1.5.0",
      "model_name": "HTMLModel",
      "state": {
       "_dom_classes": [],
       "_model_module": "@jupyter-widgets/controls",
       "_model_module_version": "1.5.0",
       "_model_name": "HTMLModel",
       "_view_count": null,
       "_view_module": "@jupyter-widgets/controls",
       "_view_module_version": "1.5.0",
       "_view_name": "HTMLView",
       "description": "",
       "description_tooltip": null,
       "layout": "IPY_MODEL_7b19c79c0a6d4ba18ff67b81f683d8f0",
       "placeholder": "​",
       "style": "IPY_MODEL_2a9ee381e1004c98a2d16f0512471e57",
       "value": " 179/179 [00:09&lt;00:00, 55.01it/s]"
      }
     },
     "2a4fff9f53f7495fa28db9761725da1e": {
      "model_module": "@jupyter-widgets/controls",
      "model_module_version": "1.5.0",
      "model_name": "DescriptionStyleModel",
      "state": {
       "_model_module": "@jupyter-widgets/controls",
       "_model_module_version": "1.5.0",
       "_model_name": "DescriptionStyleModel",
       "_view_count": null,
       "_view_module": "@jupyter-widgets/base",
       "_view_module_version": "1.2.0",
       "_view_name": "StyleView",
       "description_width": ""
      }
     },
     "2a9ee381e1004c98a2d16f0512471e57": {
      "model_module": "@jupyter-widgets/controls",
      "model_module_version": "1.5.0",
      "model_name": "DescriptionStyleModel",
      "state": {
       "_model_module": "@jupyter-widgets/controls",
       "_model_module_version": "1.5.0",
       "_model_name": "DescriptionStyleModel",
       "_view_count": null,
       "_view_module": "@jupyter-widgets/base",
       "_view_module_version": "1.2.0",
       "_view_name": "StyleView",
       "description_width": ""
      }
     },
     "2ea5113536074b40b35e5fd167a4183c": {
      "model_module": "@jupyter-widgets/controls",
      "model_module_version": "1.5.0",
      "model_name": "DescriptionStyleModel",
      "state": {
       "_model_module": "@jupyter-widgets/controls",
       "_model_module_version": "1.5.0",
       "_model_name": "DescriptionStyleModel",
       "_view_count": null,
       "_view_module": "@jupyter-widgets/base",
       "_view_module_version": "1.2.0",
       "_view_name": "StyleView",
       "description_width": ""
      }
     },
     "2fbefc5b5a1742d5a4871a1d71f3eab2": {
      "model_module": "@jupyter-widgets/controls",
      "model_module_version": "1.5.0",
      "model_name": "HTMLModel",
      "state": {
       "_dom_classes": [],
       "_model_module": "@jupyter-widgets/controls",
       "_model_module_version": "1.5.0",
       "_model_name": "HTMLModel",
       "_view_count": null,
       "_view_module": "@jupyter-widgets/controls",
       "_view_module_version": "1.5.0",
       "_view_name": "HTMLView",
       "description": "",
       "description_tooltip": null,
       "layout": "IPY_MODEL_9a293eb371864a3fbb148126caeac996",
       "placeholder": "​",
       "style": "IPY_MODEL_2ea5113536074b40b35e5fd167a4183c",
       "value": "Batches: 100%"
      }
     },
     "33977c0380604816a11f87971fb6b07f": {
      "model_module": "@jupyter-widgets/controls",
      "model_module_version": "1.5.0",
      "model_name": "HTMLModel",
      "state": {
       "_dom_classes": [],
       "_model_module": "@jupyter-widgets/controls",
       "_model_module_version": "1.5.0",
       "_model_name": "HTMLModel",
       "_view_count": null,
       "_view_module": "@jupyter-widgets/controls",
       "_view_module_version": "1.5.0",
       "_view_name": "HTMLView",
       "description": "",
       "description_tooltip": null,
       "layout": "IPY_MODEL_4c444562595244b0a05d6eb8d1083114",
       "placeholder": "​",
       "style": "IPY_MODEL_b7898dc19e0d4b9d808f0579e37da063",
       "value": " 236/236 [00:24&lt;00:00, 56.88it/s]"
      }
     },
     "46c1ffb38bcd435c9b60a0b7d17e0a73": {
      "model_module": "@jupyter-widgets/controls",
      "model_module_version": "1.5.0",
      "model_name": "FloatProgressModel",
      "state": {
       "_dom_classes": [],
       "_model_module": "@jupyter-widgets/controls",
       "_model_module_version": "1.5.0",
       "_model_name": "FloatProgressModel",
       "_view_count": null,
       "_view_module": "@jupyter-widgets/controls",
       "_view_module_version": "1.5.0",
       "_view_name": "ProgressView",
       "bar_style": "success",
       "description": "",
       "description_tooltip": null,
       "layout": "IPY_MODEL_d0982bcfdd9e4db38a62ac1048307328",
       "max": 179.0,
       "min": 0.0,
       "orientation": "horizontal",
       "style": "IPY_MODEL_a7695793d2b34920b02e4b6d5b7c3cc0",
       "value": 179.0
      }
     },
     "4c444562595244b0a05d6eb8d1083114": {
      "model_module": "@jupyter-widgets/base",
      "model_module_version": "1.2.0",
      "model_name": "LayoutModel",
      "state": {
       "_model_module": "@jupyter-widgets/base",
       "_model_module_version": "1.2.0",
       "_model_name": "LayoutModel",
       "_view_count": null,
       "_view_module": "@jupyter-widgets/base",
       "_view_module_version": "1.2.0",
       "_view_name": "LayoutView",
       "align_content": null,
       "align_items": null,
       "align_self": null,
       "border": null,
       "bottom": null,
       "display": null,
       "flex": null,
       "flex_flow": null,
       "grid_area": null,
       "grid_auto_columns": null,
       "grid_auto_flow": null,
       "grid_auto_rows": null,
       "grid_column": null,
       "grid_gap": null,
       "grid_row": null,
       "grid_template_areas": null,
       "grid_template_columns": null,
       "grid_template_rows": null,
       "height": null,
       "justify_content": null,
       "justify_items": null,
       "left": null,
       "margin": null,
       "max_height": null,
       "max_width": null,
       "min_height": null,
       "min_width": null,
       "object_fit": null,
       "object_position": null,
       "order": null,
       "overflow": null,
       "overflow_x": null,
       "overflow_y": null,
       "padding": null,
       "right": null,
       "top": null,
       "visibility": null,
       "width": null
      }
     },
     "7488808732b5472ea2a48979c80d3d2b": {
      "model_module": "@jupyter-widgets/base",
      "model_module_version": "1.2.0",
      "model_name": "LayoutModel",
      "state": {
       "_model_module": "@jupyter-widgets/base",
       "_model_module_version": "1.2.0",
       "_model_name": "LayoutModel",
       "_view_count": null,
       "_view_module": "@jupyter-widgets/base",
       "_view_module_version": "1.2.0",
       "_view_name": "LayoutView",
       "align_content": null,
       "align_items": null,
       "align_self": null,
       "border": null,
       "bottom": null,
       "display": null,
       "flex": null,
       "flex_flow": null,
       "grid_area": null,
       "grid_auto_columns": null,
       "grid_auto_flow": null,
       "grid_auto_rows": null,
       "grid_column": null,
       "grid_gap": null,
       "grid_row": null,
       "grid_template_areas": null,
       "grid_template_columns": null,
       "grid_template_rows": null,
       "height": null,
       "justify_content": null,
       "justify_items": null,
       "left": null,
       "margin": null,
       "max_height": null,
       "max_width": null,
       "min_height": null,
       "min_width": null,
       "object_fit": null,
       "object_position": null,
       "order": null,
       "overflow": null,
       "overflow_x": null,
       "overflow_y": null,
       "padding": null,
       "right": null,
       "top": null,
       "visibility": null,
       "width": null
      }
     },
     "7ab66d8c0ae34d8ea492f69f404a9425": {
      "model_module": "@jupyter-widgets/controls",
      "model_module_version": "1.5.0",
      "model_name": "HBoxModel",
      "state": {
       "_dom_classes": [],
       "_model_module": "@jupyter-widgets/controls",
       "_model_module_version": "1.5.0",
       "_model_name": "HBoxModel",
       "_view_count": null,
       "_view_module": "@jupyter-widgets/controls",
       "_view_module_version": "1.5.0",
       "_view_name": "HBoxView",
       "box_style": "",
       "children": [
        "IPY_MODEL_2fbefc5b5a1742d5a4871a1d71f3eab2",
        "IPY_MODEL_46c1ffb38bcd435c9b60a0b7d17e0a73",
        "IPY_MODEL_120f8e885d55414fb2568c5344221a4f"
       ],
       "layout": "IPY_MODEL_0bcc70ed22c14414a99720d9fd59fde9"
      }
     },
     "7b19c79c0a6d4ba18ff67b81f683d8f0": {
      "model_module": "@jupyter-widgets/base",
      "model_module_version": "1.2.0",
      "model_name": "LayoutModel",
      "state": {
       "_model_module": "@jupyter-widgets/base",
       "_model_module_version": "1.2.0",
       "_model_name": "LayoutModel",
       "_view_count": null,
       "_view_module": "@jupyter-widgets/base",
       "_view_module_version": "1.2.0",
       "_view_name": "LayoutView",
       "align_content": null,
       "align_items": null,
       "align_self": null,
       "border": null,
       "bottom": null,
       "display": null,
       "flex": null,
       "flex_flow": null,
       "grid_area": null,
       "grid_auto_columns": null,
       "grid_auto_flow": null,
       "grid_auto_rows": null,
       "grid_column": null,
       "grid_gap": null,
       "grid_row": null,
       "grid_template_areas": null,
       "grid_template_columns": null,
       "grid_template_rows": null,
       "height": null,
       "justify_content": null,
       "justify_items": null,
       "left": null,
       "margin": null,
       "max_height": null,
       "max_width": null,
       "min_height": null,
       "min_width": null,
       "object_fit": null,
       "object_position": null,
       "order": null,
       "overflow": null,
       "overflow_x": null,
       "overflow_y": null,
       "padding": null,
       "right": null,
       "top": null,
       "visibility": null,
       "width": null
      }
     },
     "9a293eb371864a3fbb148126caeac996": {
      "model_module": "@jupyter-widgets/base",
      "model_module_version": "1.2.0",
      "model_name": "LayoutModel",
      "state": {
       "_model_module": "@jupyter-widgets/base",
       "_model_module_version": "1.2.0",
       "_model_name": "LayoutModel",
       "_view_count": null,
       "_view_module": "@jupyter-widgets/base",
       "_view_module_version": "1.2.0",
       "_view_name": "LayoutView",
       "align_content": null,
       "align_items": null,
       "align_self": null,
       "border": null,
       "bottom": null,
       "display": null,
       "flex": null,
       "flex_flow": null,
       "grid_area": null,
       "grid_auto_columns": null,
       "grid_auto_flow": null,
       "grid_auto_rows": null,
       "grid_column": null,
       "grid_gap": null,
       "grid_row": null,
       "grid_template_areas": null,
       "grid_template_columns": null,
       "grid_template_rows": null,
       "height": null,
       "justify_content": null,
       "justify_items": null,
       "left": null,
       "margin": null,
       "max_height": null,
       "max_width": null,
       "min_height": null,
       "min_width": null,
       "object_fit": null,
       "object_position": null,
       "order": null,
       "overflow": null,
       "overflow_x": null,
       "overflow_y": null,
       "padding": null,
       "right": null,
       "top": null,
       "visibility": null,
       "width": null
      }
     },
     "9e65519c01874da6a7700642fb442e14": {
      "model_module": "@jupyter-widgets/controls",
      "model_module_version": "1.5.0",
      "model_name": "HTMLModel",
      "state": {
       "_dom_classes": [],
       "_model_module": "@jupyter-widgets/controls",
       "_model_module_version": "1.5.0",
       "_model_name": "HTMLModel",
       "_view_count": null,
       "_view_module": "@jupyter-widgets/controls",
       "_view_module_version": "1.5.0",
       "_view_name": "HTMLView",
       "description": "",
       "description_tooltip": null,
       "layout": "IPY_MODEL_a3d29b5f872e4524a640468497bb7547",
       "placeholder": "​",
       "style": "IPY_MODEL_2a4fff9f53f7495fa28db9761725da1e",
       "value": "Batches: 100%"
      }
     },
     "a3d29b5f872e4524a640468497bb7547": {
      "model_module": "@jupyter-widgets/base",
      "model_module_version": "1.2.0",
      "model_name": "LayoutModel",
      "state": {
       "_model_module": "@jupyter-widgets/base",
       "_model_module_version": "1.2.0",
       "_model_name": "LayoutModel",
       "_view_count": null,
       "_view_module": "@jupyter-widgets/base",
       "_view_module_version": "1.2.0",
       "_view_name": "LayoutView",
       "align_content": null,
       "align_items": null,
       "align_self": null,
       "border": null,
       "bottom": null,
       "display": null,
       "flex": null,
       "flex_flow": null,
       "grid_area": null,
       "grid_auto_columns": null,
       "grid_auto_flow": null,
       "grid_auto_rows": null,
       "grid_column": null,
       "grid_gap": null,
       "grid_row": null,
       "grid_template_areas": null,
       "grid_template_columns": null,
       "grid_template_rows": null,
       "height": null,
       "justify_content": null,
       "justify_items": null,
       "left": null,
       "margin": null,
       "max_height": null,
       "max_width": null,
       "min_height": null,
       "min_width": null,
       "object_fit": null,
       "object_position": null,
       "order": null,
       "overflow": null,
       "overflow_x": null,
       "overflow_y": null,
       "padding": null,
       "right": null,
       "top": null,
       "visibility": null,
       "width": null
      }
     },
     "a7695793d2b34920b02e4b6d5b7c3cc0": {
      "model_module": "@jupyter-widgets/controls",
      "model_module_version": "1.5.0",
      "model_name": "ProgressStyleModel",
      "state": {
       "_model_module": "@jupyter-widgets/controls",
       "_model_module_version": "1.5.0",
       "_model_name": "ProgressStyleModel",
       "_view_count": null,
       "_view_module": "@jupyter-widgets/base",
       "_view_module_version": "1.2.0",
       "_view_name": "StyleView",
       "bar_color": null,
       "description_width": ""
      }
     },
     "a9152185398c47c988294610280959a2": {
      "model_module": "@jupyter-widgets/controls",
      "model_module_version": "1.5.0",
      "model_name": "HBoxModel",
      "state": {
       "_dom_classes": [],
       "_model_module": "@jupyter-widgets/controls",
       "_model_module_version": "1.5.0",
       "_model_name": "HBoxModel",
       "_view_count": null,
       "_view_module": "@jupyter-widgets/controls",
       "_view_module_version": "1.5.0",
       "_view_name": "HBoxView",
       "box_style": "",
       "children": [
        "IPY_MODEL_9e65519c01874da6a7700642fb442e14",
        "IPY_MODEL_0ea9908f7fa94724a0c21958c5b7e432",
        "IPY_MODEL_33977c0380604816a11f87971fb6b07f"
       ],
       "layout": "IPY_MODEL_d342ecbbd257486fa61e19d147cc4b12"
      }
     },
     "b7898dc19e0d4b9d808f0579e37da063": {
      "model_module": "@jupyter-widgets/controls",
      "model_module_version": "1.5.0",
      "model_name": "DescriptionStyleModel",
      "state": {
       "_model_module": "@jupyter-widgets/controls",
       "_model_module_version": "1.5.0",
       "_model_name": "DescriptionStyleModel",
       "_view_count": null,
       "_view_module": "@jupyter-widgets/base",
       "_view_module_version": "1.2.0",
       "_view_name": "StyleView",
       "description_width": ""
      }
     },
     "c58c25e9c4cc49498f6055ad7be089d3": {
      "model_module": "@jupyter-widgets/controls",
      "model_module_version": "1.5.0",
      "model_name": "ProgressStyleModel",
      "state": {
       "_model_module": "@jupyter-widgets/controls",
       "_model_module_version": "1.5.0",
       "_model_name": "ProgressStyleModel",
       "_view_count": null,
       "_view_module": "@jupyter-widgets/base",
       "_view_module_version": "1.2.0",
       "_view_name": "StyleView",
       "bar_color": null,
       "description_width": ""
      }
     },
     "d0982bcfdd9e4db38a62ac1048307328": {
      "model_module": "@jupyter-widgets/base",
      "model_module_version": "1.2.0",
      "model_name": "LayoutModel",
      "state": {
       "_model_module": "@jupyter-widgets/base",
       "_model_module_version": "1.2.0",
       "_model_name": "LayoutModel",
       "_view_count": null,
       "_view_module": "@jupyter-widgets/base",
       "_view_module_version": "1.2.0",
       "_view_name": "LayoutView",
       "align_content": null,
       "align_items": null,
       "align_self": null,
       "border": null,
       "bottom": null,
       "display": null,
       "flex": null,
       "flex_flow": null,
       "grid_area": null,
       "grid_auto_columns": null,
       "grid_auto_flow": null,
       "grid_auto_rows": null,
       "grid_column": null,
       "grid_gap": null,
       "grid_row": null,
       "grid_template_areas": null,
       "grid_template_columns": null,
       "grid_template_rows": null,
       "height": null,
       "justify_content": null,
       "justify_items": null,
       "left": null,
       "margin": null,
       "max_height": null,
       "max_width": null,
       "min_height": null,
       "min_width": null,
       "object_fit": null,
       "object_position": null,
       "order": null,
       "overflow": null,
       "overflow_x": null,
       "overflow_y": null,
       "padding": null,
       "right": null,
       "top": null,
       "visibility": null,
       "width": null
      }
     },
     "d342ecbbd257486fa61e19d147cc4b12": {
      "model_module": "@jupyter-widgets/base",
      "model_module_version": "1.2.0",
      "model_name": "LayoutModel",
      "state": {
       "_model_module": "@jupyter-widgets/base",
       "_model_module_version": "1.2.0",
       "_model_name": "LayoutModel",
       "_view_count": null,
       "_view_module": "@jupyter-widgets/base",
       "_view_module_version": "1.2.0",
       "_view_name": "LayoutView",
       "align_content": null,
       "align_items": null,
       "align_self": null,
       "border": null,
       "bottom": null,
       "display": null,
       "flex": null,
       "flex_flow": null,
       "grid_area": null,
       "grid_auto_columns": null,
       "grid_auto_flow": null,
       "grid_auto_rows": null,
       "grid_column": null,
       "grid_gap": null,
       "grid_row": null,
       "grid_template_areas": null,
       "grid_template_columns": null,
       "grid_template_rows": null,
       "height": null,
       "justify_content": null,
       "justify_items": null,
       "left": null,
       "margin": null,
       "max_height": null,
       "max_width": null,
       "min_height": null,
       "min_width": null,
       "object_fit": null,
       "object_position": null,
       "order": null,
       "overflow": null,
       "overflow_x": null,
       "overflow_y": null,
       "padding": null,
       "right": null,
       "top": null,
       "visibility": null,
       "width": null
      }
     }
    },
    "version_major": 2,
    "version_minor": 0
   }
  }
 },
 "nbformat": 4,
 "nbformat_minor": 5
}
