{
 "cells": [
  {
   "cell_type": "code",
   "execution_count": 1,
   "id": "c4dca029",
   "metadata": {},
   "outputs": [],
   "source": [
    "import numpy as np \n",
    "import pandas as pd\n",
    "import os\n",
    "import gc\n",
    "import torch\n",
    "\n",
    "#Text Cleaning\n",
    "from bs4 import BeautifulSoup\n",
    "import re \n",
    "\n",
    "from sentence_transformers import SentenceTransformer, util"
   ]
  },
  {
   "cell_type": "code",
   "execution_count": 2,
   "id": "d10b3d09",
   "metadata": {},
   "outputs": [
    {
     "name": "stderr",
     "output_type": "stream",
     "text": [
      "/home/roma/.local/lib/python3.8/site-packages/torch/cuda/memory.py:271: FutureWarning: torch.cuda.reset_max_memory_allocated now calls torch.cuda.reset_peak_memory_stats, which resets /all/ peak memory stats.\n",
      "  warnings.warn(\n"
     ]
    }
   ],
   "source": [
    "gc.collect()\n",
    "torch.cuda.empty_cache()\n",
    "torch.cuda.reset_peak_memory_stats()\n",
    "torch.cuda.reset_max_memory_allocated()\n",
    "torch.cuda.synchronize()"
   ]
  },
  {
   "cell_type": "code",
   "execution_count": 3,
   "id": "e8659521",
   "metadata": {},
   "outputs": [],
   "source": [
    "def get_classification_dataset_as(task=\"binary\", regression_weights=None):\n",
    "    \"\"\"\n",
    "    Args:\n",
    "        task: ['binary', 'regression']\n",
    "        regression_weights: dictionary {label => weights} for each label or None, if task=='regression'\n",
    "        \n",
    "    \"\"\"\n",
    "    assert task in ['binary', 'regression']\n",
    "    \n",
    "    df = pd.read_csv('input/jigsaw-toxic-comment-classification-challenge/classification-dataset.csv')\n",
    "\n",
    "    \n",
    "    labels = ['toxic', 'severe_toxic', 'obscene', 'threat', 'insult', 'identity_hate']\n",
    "    \n",
    "    if task == 'binary':    \n",
    "        df['y'] = (df[labels].sum(axis=1) > 0).astype(int)\n",
    "        df = df.drop(labels, axis=1)\n",
    "    elif task == 'regression':\n",
    "        if regression_weights is None:\n",
    "            df['y'] = df[labels].sum(axis=1)\n",
    "        else:\n",
    "            weighed_columns = [regression_weights.get(l, 1) * df[l] for l in labels]\n",
    "            df['y'] = pd.concat(weighed_columns, axis=1).sum(axis=1)\n",
    "        df = df.drop(labels, axis=1)\n",
    "    return df"
   ]
  },
  {
   "cell_type": "code",
   "execution_count": 4,
   "id": "98b7d0e0",
   "metadata": {},
   "outputs": [],
   "source": [
    "df_jigsaw = get_classification_dataset_as('regression', regression_weights={'obscene': 0.16, 'toxic': 0.32, 'threat': 1.5, \n",
    "            'insult': 0.64, 'severe_toxic': 1.5, 'identity_hate': 1.5})"
   ]
  },
  {
   "cell_type": "code",
   "execution_count": 5,
   "id": "285c2b2c",
   "metadata": {},
   "outputs": [
    {
     "data": {
      "text/html": [
       "<div>\n",
       "<style scoped>\n",
       "    .dataframe tbody tr th:only-of-type {\n",
       "        vertical-align: middle;\n",
       "    }\n",
       "\n",
       "    .dataframe tbody tr th {\n",
       "        vertical-align: top;\n",
       "    }\n",
       "\n",
       "    .dataframe thead th {\n",
       "        text-align: right;\n",
       "    }\n",
       "</style>\n",
       "<table border=\"1\" class=\"dataframe\">\n",
       "  <thead>\n",
       "    <tr style=\"text-align: right;\">\n",
       "      <th></th>\n",
       "      <th>id</th>\n",
       "      <th>comment_text</th>\n",
       "      <th>y</th>\n",
       "    </tr>\n",
       "  </thead>\n",
       "  <tbody>\n",
       "    <tr>\n",
       "      <th>0</th>\n",
       "      <td>0000997932d777bf</td>\n",
       "      <td>Explanation\\nWhy the edits made under my usern...</td>\n",
       "      <td>0.0</td>\n",
       "    </tr>\n",
       "    <tr>\n",
       "      <th>1</th>\n",
       "      <td>000103f0d9cfb60f</td>\n",
       "      <td>D'aww! He matches this background colour I'm s...</td>\n",
       "      <td>0.0</td>\n",
       "    </tr>\n",
       "    <tr>\n",
       "      <th>2</th>\n",
       "      <td>000113f07ec002fd</td>\n",
       "      <td>Hey man, I'm really not trying to edit war. It...</td>\n",
       "      <td>0.0</td>\n",
       "    </tr>\n",
       "    <tr>\n",
       "      <th>3</th>\n",
       "      <td>0001b41b1c6bb37e</td>\n",
       "      <td>\"\\nMore\\nI can't make any real suggestions on ...</td>\n",
       "      <td>0.0</td>\n",
       "    </tr>\n",
       "    <tr>\n",
       "      <th>4</th>\n",
       "      <td>0001d958c54c6e35</td>\n",
       "      <td>You, sir, are my hero. Any chance you remember...</td>\n",
       "      <td>0.0</td>\n",
       "    </tr>\n",
       "  </tbody>\n",
       "</table>\n",
       "</div>"
      ],
      "text/plain": [
       "                 id                                       comment_text    y\n",
       "0  0000997932d777bf  Explanation\\nWhy the edits made under my usern...  0.0\n",
       "1  000103f0d9cfb60f  D'aww! He matches this background colour I'm s...  0.0\n",
       "2  000113f07ec002fd  Hey man, I'm really not trying to edit war. It...  0.0\n",
       "3  0001b41b1c6bb37e  \"\\nMore\\nI can't make any real suggestions on ...  0.0\n",
       "4  0001d958c54c6e35  You, sir, are my hero. Any chance you remember...  0.0"
      ]
     },
     "execution_count": 5,
     "metadata": {},
     "output_type": "execute_result"
    }
   ],
   "source": [
    "df_jigsaw.head()"
   ]
  },
  {
   "cell_type": "code",
   "execution_count": 6,
   "id": "b9a45420",
   "metadata": {},
   "outputs": [],
   "source": [
    "df_ruddit = pd.read_csv('input/ruddit-jigsaw-dataset/ruddit_with_text.csv')[['comment_id', 'txt', 'offensiveness_score']]\n",
    "df_ruddit = df_ruddit.loc[(df_ruddit.txt != '[deleted]') & (df_ruddit.txt != '[removed]')]"
   ]
  },
  {
   "cell_type": "code",
   "execution_count": 7,
   "id": "6d0b9dc5",
   "metadata": {},
   "outputs": [
    {
     "data": {
      "text/html": [
       "<div>\n",
       "<style scoped>\n",
       "    .dataframe tbody tr th:only-of-type {\n",
       "        vertical-align: middle;\n",
       "    }\n",
       "\n",
       "    .dataframe tbody tr th {\n",
       "        vertical-align: top;\n",
       "    }\n",
       "\n",
       "    .dataframe thead th {\n",
       "        text-align: right;\n",
       "    }\n",
       "</style>\n",
       "<table border=\"1\" class=\"dataframe\">\n",
       "  <thead>\n",
       "    <tr style=\"text-align: right;\">\n",
       "      <th></th>\n",
       "      <th>comment_id</th>\n",
       "      <th>txt</th>\n",
       "      <th>offensiveness_score</th>\n",
       "    </tr>\n",
       "  </thead>\n",
       "  <tbody>\n",
       "    <tr>\n",
       "      <th>0</th>\n",
       "      <td>cza1q49</td>\n",
       "      <td>&gt; The difference in average earnings between m...</td>\n",
       "      <td>-0.083</td>\n",
       "    </tr>\n",
       "    <tr>\n",
       "      <th>1</th>\n",
       "      <td>cza1wdh</td>\n",
       "      <td>The myth is that the \"gap\" is entirely based o...</td>\n",
       "      <td>-0.022</td>\n",
       "    </tr>\n",
       "    <tr>\n",
       "      <th>3</th>\n",
       "      <td>cza2bw8</td>\n",
       "      <td>The assertion is that women get paid less for ...</td>\n",
       "      <td>-0.146</td>\n",
       "    </tr>\n",
       "    <tr>\n",
       "      <th>4</th>\n",
       "      <td>cza2iji</td>\n",
       "      <td>You said in the OP that's not what they're mea...</td>\n",
       "      <td>-0.083</td>\n",
       "    </tr>\n",
       "    <tr>\n",
       "      <th>5</th>\n",
       "      <td>cza2jj3</td>\n",
       "      <td>&gt;Men and women are not payed less for the same...</td>\n",
       "      <td>-0.042</td>\n",
       "    </tr>\n",
       "  </tbody>\n",
       "</table>\n",
       "</div>"
      ],
      "text/plain": [
       "  comment_id                                                txt  \\\n",
       "0    cza1q49  > The difference in average earnings between m...   \n",
       "1    cza1wdh  The myth is that the \"gap\" is entirely based o...   \n",
       "3    cza2bw8  The assertion is that women get paid less for ...   \n",
       "4    cza2iji  You said in the OP that's not what they're mea...   \n",
       "5    cza2jj3  >Men and women are not payed less for the same...   \n",
       "\n",
       "   offensiveness_score  \n",
       "0               -0.083  \n",
       "1               -0.022  \n",
       "3               -0.146  \n",
       "4               -0.083  \n",
       "5               -0.042  "
      ]
     },
     "execution_count": 7,
     "metadata": {},
     "output_type": "execute_result"
    }
   ],
   "source": [
    "df_ruddit.head()"
   ]
  },
  {
   "cell_type": "code",
   "execution_count": 8,
   "id": "5746c575",
   "metadata": {},
   "outputs": [
    {
     "data": {
      "text/plain": [
       "0         Explanation\\nWhy the edits made under my usern...\n",
       "1         D'aww! He matches this background colour I'm s...\n",
       "2         Hey man, I'm really not trying to edit war. It...\n",
       "3         \"\\nMore\\nI can't make any real suggestions on ...\n",
       "4         You, sir, are my hero. Any chance you remember...\n",
       "                                ...                        \n",
       "223544    :Jerome, I see you never got around to this…! ...\n",
       "223545    ==Lucky bastard== \\n http://wikimediafoundatio...\n",
       "223546    ==shame on you all!!!== \\n\\n You want to speak...\n",
       "223547    MEL GIBSON IS A NAZI BITCH WHO MAKES SHITTY MO...\n",
       "223548    \" \\n\\n == Unicorn lair discovery == \\n\\n Suppo...\n",
       "Name: comment_text, Length: 223549, dtype: object"
      ]
     },
     "execution_count": 8,
     "metadata": {},
     "output_type": "execute_result"
    }
   ],
   "source": [
    "df_jigsaw.comment_text"
   ]
  },
  {
   "cell_type": "code",
   "execution_count": 9,
   "id": "b6c4857c",
   "metadata": {},
   "outputs": [],
   "source": [
    "def text_cleaning(text):\n",
    "    '''\n",
    "    Cleans text into a basic form for NLP. Operations include the following:-\n",
    "    1. Remove special charecters like &, #, etc\n",
    "    2. Removes extra spaces\n",
    "    3. Removes embedded URL links\n",
    "    4. Removes HTML tags\n",
    "    5. Removes emojis\n",
    "    \n",
    "    text - Text piece to be cleaned.\n",
    "    '''\n",
    "    template = re.compile(r'https?://\\S+|www\\.\\S+') #Removes website links\n",
    "    text = template.sub(r'', text)\n",
    "    \n",
    "    soup = BeautifulSoup(text, 'lxml') #Removes HTML tags\n",
    "    only_text = soup.get_text()\n",
    "    text = only_text\n",
    "    \n",
    "    emoji_pattern = re.compile(\"[\"\n",
    "                               u\"\\U0001F600-\\U0001F64F\"  # emoticons\n",
    "                               u\"\\U0001F300-\\U0001F5FF\"  # symbols & pictographs\n",
    "                               u\"\\U0001F680-\\U0001F6FF\"  # transport & map symbols\n",
    "                               u\"\\U0001F1E0-\\U0001F1FF\"  # flags (iOS)\n",
    "                               u\"\\U00002702-\\U000027B0\"\n",
    "                               u\"\\U000024C2-\\U0001F251\"\n",
    "                               \"]+\", flags=re.UNICODE)\n",
    "    text = emoji_pattern.sub(r'', text)\n",
    "    \n",
    "    text = re.sub(r\"[^a-zA-Z\\d]\", \" \", text) #Remove special Charecters\n",
    "    text = re.sub(' +', ' ', text) #Remove Extra Spaces\n",
    "    text = text.strip() # remove spaces at the beginning and at the end of string\n",
    "\n",
    "    return text"
   ]
  },
  {
   "cell_type": "code",
   "execution_count": 10,
   "id": "a63f32cf",
   "metadata": {},
   "outputs": [],
   "source": [
    "df_jigsaw.comment_text=df_jigsaw.comment_text.apply(str)"
   ]
  },
  {
   "cell_type": "code",
   "execution_count": 11,
   "id": "0a88f80c",
   "metadata": {},
   "outputs": [],
   "source": [
    "df_jigsaw.comment_text = df_jigsaw.comment_text.apply(text_cleaning)\n",
    "df_ruddit.txt = df_ruddit.txt.apply(text_cleaning)"
   ]
  },
  {
   "cell_type": "code",
   "execution_count": 12,
   "id": "8d4906eb",
   "metadata": {},
   "outputs": [
    {
     "data": {
      "text/html": [
       "<div>\n",
       "<style scoped>\n",
       "    .dataframe tbody tr th:only-of-type {\n",
       "        vertical-align: middle;\n",
       "    }\n",
       "\n",
       "    .dataframe tbody tr th {\n",
       "        vertical-align: top;\n",
       "    }\n",
       "\n",
       "    .dataframe thead th {\n",
       "        text-align: right;\n",
       "    }\n",
       "</style>\n",
       "<table border=\"1\" class=\"dataframe\">\n",
       "  <thead>\n",
       "    <tr style=\"text-align: right;\">\n",
       "      <th></th>\n",
       "      <th>id</th>\n",
       "      <th>comment_text</th>\n",
       "      <th>y</th>\n",
       "    </tr>\n",
       "  </thead>\n",
       "  <tbody>\n",
       "    <tr>\n",
       "      <th>0</th>\n",
       "      <td>0000997932d777bf</td>\n",
       "      <td>Explanation Why the edits made under my userna...</td>\n",
       "      <td>0.0</td>\n",
       "    </tr>\n",
       "    <tr>\n",
       "      <th>1</th>\n",
       "      <td>000103f0d9cfb60f</td>\n",
       "      <td>D aww He matches this background colour I m se...</td>\n",
       "      <td>0.0</td>\n",
       "    </tr>\n",
       "    <tr>\n",
       "      <th>2</th>\n",
       "      <td>000113f07ec002fd</td>\n",
       "      <td>Hey man I m really not trying to edit war It s...</td>\n",
       "      <td>0.0</td>\n",
       "    </tr>\n",
       "    <tr>\n",
       "      <th>3</th>\n",
       "      <td>0001b41b1c6bb37e</td>\n",
       "      <td>More I can t make any real suggestions on impr...</td>\n",
       "      <td>0.0</td>\n",
       "    </tr>\n",
       "    <tr>\n",
       "      <th>4</th>\n",
       "      <td>0001d958c54c6e35</td>\n",
       "      <td>You sir are my hero Any chance you remember wh...</td>\n",
       "      <td>0.0</td>\n",
       "    </tr>\n",
       "  </tbody>\n",
       "</table>\n",
       "</div>"
      ],
      "text/plain": [
       "                 id                                       comment_text    y\n",
       "0  0000997932d777bf  Explanation Why the edits made under my userna...  0.0\n",
       "1  000103f0d9cfb60f  D aww He matches this background colour I m se...  0.0\n",
       "2  000113f07ec002fd  Hey man I m really not trying to edit war It s...  0.0\n",
       "3  0001b41b1c6bb37e  More I can t make any real suggestions on impr...  0.0\n",
       "4  0001d958c54c6e35  You sir are my hero Any chance you remember wh...  0.0"
      ]
     },
     "execution_count": 12,
     "metadata": {},
     "output_type": "execute_result"
    }
   ],
   "source": [
    "df_jigsaw.head()"
   ]
  },
  {
   "cell_type": "code",
   "execution_count": 13,
   "id": "0c685e6f",
   "metadata": {},
   "outputs": [
    {
     "data": {
      "text/html": [
       "<div>\n",
       "<style scoped>\n",
       "    .dataframe tbody tr th:only-of-type {\n",
       "        vertical-align: middle;\n",
       "    }\n",
       "\n",
       "    .dataframe tbody tr th {\n",
       "        vertical-align: top;\n",
       "    }\n",
       "\n",
       "    .dataframe thead th {\n",
       "        text-align: right;\n",
       "    }\n",
       "</style>\n",
       "<table border=\"1\" class=\"dataframe\">\n",
       "  <thead>\n",
       "    <tr style=\"text-align: right;\">\n",
       "      <th></th>\n",
       "      <th>comment_id</th>\n",
       "      <th>txt</th>\n",
       "      <th>offensiveness_score</th>\n",
       "    </tr>\n",
       "  </thead>\n",
       "  <tbody>\n",
       "    <tr>\n",
       "      <th>0</th>\n",
       "      <td>cza1q49</td>\n",
       "      <td>The difference in average earnings between men...</td>\n",
       "      <td>-0.083</td>\n",
       "    </tr>\n",
       "    <tr>\n",
       "      <th>1</th>\n",
       "      <td>cza1wdh</td>\n",
       "      <td>The myth is that the gap is entirely based on ...</td>\n",
       "      <td>-0.022</td>\n",
       "    </tr>\n",
       "    <tr>\n",
       "      <th>3</th>\n",
       "      <td>cza2bw8</td>\n",
       "      <td>The assertion is that women get paid less for ...</td>\n",
       "      <td>-0.146</td>\n",
       "    </tr>\n",
       "    <tr>\n",
       "      <th>4</th>\n",
       "      <td>cza2iji</td>\n",
       "      <td>You said in the OP that s not what they re mea...</td>\n",
       "      <td>-0.083</td>\n",
       "    </tr>\n",
       "    <tr>\n",
       "      <th>5</th>\n",
       "      <td>cza2jj3</td>\n",
       "      <td>Men and women are not payed less for the same ...</td>\n",
       "      <td>-0.042</td>\n",
       "    </tr>\n",
       "  </tbody>\n",
       "</table>\n",
       "</div>"
      ],
      "text/plain": [
       "  comment_id                                                txt  \\\n",
       "0    cza1q49  The difference in average earnings between men...   \n",
       "1    cza1wdh  The myth is that the gap is entirely based on ...   \n",
       "3    cza2bw8  The assertion is that women get paid less for ...   \n",
       "4    cza2iji  You said in the OP that s not what they re mea...   \n",
       "5    cza2jj3  Men and women are not payed less for the same ...   \n",
       "\n",
       "   offensiveness_score  \n",
       "0               -0.083  \n",
       "1               -0.022  \n",
       "3               -0.146  \n",
       "4               -0.083  \n",
       "5               -0.042  "
      ]
     },
     "execution_count": 13,
     "metadata": {},
     "output_type": "execute_result"
    }
   ],
   "source": [
    "df_ruddit.head()"
   ]
  },
  {
   "cell_type": "code",
   "execution_count": 14,
   "id": "f4a0b5d0",
   "metadata": {},
   "outputs": [],
   "source": [
    "ru_toxic_score = df_ruddit[\"offensiveness_score\"].values"
   ]
  },
  {
   "cell_type": "code",
   "execution_count": 15,
   "id": "f4a35f9c",
   "metadata": {},
   "outputs": [
    {
     "data": {
      "text/plain": [
       "array([-0.083, -0.022, -0.146, ..., -0.292,  0.333, -0.625])"
      ]
     },
     "execution_count": 15,
     "metadata": {},
     "output_type": "execute_result"
    }
   ],
   "source": [
    "ru_toxic_score"
   ]
  },
  {
   "cell_type": "code",
   "execution_count": 16,
   "id": "693bedd6",
   "metadata": {},
   "outputs": [],
   "source": [
    "model = SentenceTransformer(\"paraphrase-mpnet-base-v2\")"
   ]
  },
  {
   "cell_type": "code",
   "execution_count": 17,
   "id": "76c12ff4",
   "metadata": {},
   "outputs": [
    {
     "data": {
      "text/plain": [
       "512"
      ]
     },
     "execution_count": 17,
     "metadata": {},
     "output_type": "execute_result"
    }
   ],
   "source": [
    "model.max_seq_length"
   ]
  },
  {
   "cell_type": "code",
   "execution_count": 18,
   "id": "7cef8a1b",
   "metadata": {},
   "outputs": [],
   "source": [
    "#model.max_seq_length = 512"
   ]
  },
  {
   "cell_type": "code",
   "execution_count": 19,
   "id": "9a9cbdcf",
   "metadata": {},
   "outputs": [],
   "source": [
    "sentences_jigsaw = df_jigsaw.comment_text\n",
    "sentences_ruddit = df_ruddit.txt.reset_index(drop=True)"
   ]
  },
  {
   "cell_type": "code",
   "execution_count": 20,
   "id": "6ce94ef5",
   "metadata": {},
   "outputs": [
    {
     "data": {
      "text/plain": [
       "0         Explanation Why the edits made under my userna...\n",
       "1         D aww He matches this background colour I m se...\n",
       "2         Hey man I m really not trying to edit war It s...\n",
       "3         More I can t make any real suggestions on impr...\n",
       "4         You sir are my hero Any chance you remember wh...\n",
       "                                ...                        \n",
       "223544    Jerome I see you never got around to this I m ...\n",
       "223545    Lucky bastard Heh you are famous now I kida en...\n",
       "223546    shame on you all You want to speak about gays ...\n",
       "223547    MEL GIBSON IS A NAZI BITCH WHO MAKES SHITTY MO...\n",
       "223548    Unicorn lair discovery Supposedly a unicorn la...\n",
       "Name: comment_text, Length: 223549, dtype: object"
      ]
     },
     "execution_count": 20,
     "metadata": {},
     "output_type": "execute_result"
    }
   ],
   "source": [
    "sentences_jigsaw"
   ]
  },
  {
   "cell_type": "code",
   "execution_count": 21,
   "id": "4a01af72",
   "metadata": {},
   "outputs": [
    {
     "data": {
      "text/plain": [
       "0       The difference in average earnings between men...\n",
       "1       The myth is that the gap is entirely based on ...\n",
       "2       The assertion is that women get paid less for ...\n",
       "3       You said in the OP that s not what they re mea...\n",
       "4       Men and women are not payed less for the same ...\n",
       "                              ...                        \n",
       "5705    They should only censor things that talk badly...\n",
       "5706    and one of them is a woman OH SHIT we better b...\n",
       "5707                    how is this flared as US politics\n",
       "5708    People in Hong Kong must decide if they are go...\n",
       "5709    I know this is an old post but I saw him last ...\n",
       "Name: txt, Length: 5710, dtype: object"
      ]
     },
     "execution_count": 21,
     "metadata": {},
     "output_type": "execute_result"
    }
   ],
   "source": [
    "sentences_ruddit"
   ]
  },
  {
   "cell_type": "code",
   "execution_count": 22,
   "id": "e4b5e891",
   "metadata": {
    "scrolled": true
   },
   "outputs": [
    {
     "name": "stdout",
     "output_type": "stream",
     "text": [
      "You sir are my hero Any chance you remember what page that s on\n",
      "\n",
      "Men and women are not payed less for the same job I don t think many people say this is the case though I think this is a misconception on the other side not something feminists have said Even if women have a lower average wage in all jobs than men I mean that s even bigger than individual cases This shows that women are in an inferior position more than if a woman were to get literally 30 cents less Because averages show the bigger picture Edit Changed 70 to 30\n"
     ]
    }
   ],
   "source": [
    "print(sentences_jigsaw[4])\n",
    "print()\n",
    "print(sentences_ruddit[4])"
   ]
  },
  {
   "cell_type": "code",
   "execution_count": 23,
   "id": "cb841178",
   "metadata": {},
   "outputs": [
    {
     "data": {
      "application/vnd.jupyter.widget-view+json": {
       "model_id": "6c47ceb6f3744ccfa2cf5f8846c1068e",
       "version_major": 2,
       "version_minor": 0
      },
      "text/plain": [
       "Batches:   0%|          | 0/6986 [00:00<?, ?it/s]"
      ]
     },
     "metadata": {},
     "output_type": "display_data"
    }
   ],
   "source": [
    "embeddings_jigsaw = model.encode(sentences_jigsaw, show_progress_bar = True, convert_to_tensor=True)"
   ]
  },
  {
   "cell_type": "code",
   "execution_count": 24,
   "id": "84549ed9",
   "metadata": {},
   "outputs": [],
   "source": [
    "embeddings_jigsaw = embeddings_jigsaw.to('cuda')\n",
    "#embeddings = util.normalize_embeddings(embeddings_jigsaw)"
   ]
  },
  {
   "cell_type": "code",
   "execution_count": 25,
   "id": "921ed729",
   "metadata": {},
   "outputs": [
    {
     "data": {
      "application/vnd.jupyter.widget-view+json": {
       "model_id": "c2f2603a17de43cfb457c9cd1e34debf",
       "version_major": 2,
       "version_minor": 0
      },
      "text/plain": [
       "Batches:   0%|          | 0/179 [00:00<?, ?it/s]"
      ]
     },
     "metadata": {},
     "output_type": "display_data"
    }
   ],
   "source": [
    "embeddings_ruddit = model.encode(sentences_ruddit, show_progress_bar = True, convert_to_tensor=True)"
   ]
  },
  {
   "cell_type": "code",
   "execution_count": 26,
   "id": "86c34b23",
   "metadata": {},
   "outputs": [],
   "source": [
    "embeddings_ruddit = embeddings_ruddit.to('cuda')\n",
    "#embeddings_ruddit = util.normalize_embeddings(embeddings_ruddit)"
   ]
  },
  {
   "cell_type": "code",
   "execution_count": 27,
   "id": "93392540",
   "metadata": {},
   "outputs": [],
   "source": [
    "top_K = 10"
   ]
  },
  {
   "cell_type": "code",
   "execution_count": 28,
   "id": "a2047239",
   "metadata": {},
   "outputs": [],
   "source": [
    "hits = util.semantic_search(embeddings_jigsaw, embeddings_ruddit, top_k=top_K)"
   ]
  },
  {
   "cell_type": "code",
   "execution_count": 29,
   "id": "4e4f4958",
   "metadata": {},
   "outputs": [
    {
     "data": {
      "text/plain": [
       "[{'corpus_id': 641, 'score': 0.48377907276153564},\n",
       " {'corpus_id': 3788, 'score': 0.4662332832813263},\n",
       " {'corpus_id': 431, 'score': 0.46103063225746155},\n",
       " {'corpus_id': 2162, 'score': 0.45483699440956116},\n",
       " {'corpus_id': 674, 'score': 0.45436087250709534},\n",
       " {'corpus_id': 2218, 'score': 0.45334410667419434},\n",
       " {'corpus_id': 647, 'score': 0.44764620065689087},\n",
       " {'corpus_id': 5699, 'score': 0.42927515506744385},\n",
       " {'corpus_id': 927, 'score': 0.42191389203071594},\n",
       " {'corpus_id': 3797, 'score': 0.4212823510169983}]"
      ]
     },
     "execution_count": 29,
     "metadata": {},
     "output_type": "execute_result"
    }
   ],
   "source": [
    "hits[0][0:10]"
   ]
  },
  {
   "cell_type": "code",
   "execution_count": 30,
   "id": "2a050dc3",
   "metadata": {},
   "outputs": [],
   "source": [
    "def check(idx, top_K):\n",
    "    c = 0\n",
    "    for i in range(top_K):\n",
    "        more_score = ru_toxic_score[hits[idx][i][\"corpus_id\"]]\n",
    "        c+=more_score#*more_w\n",
    "    return c/top_K"
   ]
  },
  {
   "cell_type": "code",
   "execution_count": 31,
   "id": "a06b8f96",
   "metadata": {},
   "outputs": [],
   "source": [
    "sentence_sore = np.empty(len(df_jigsaw))\n",
    "\n",
    "for i in range(len(df_jigsaw)):\n",
    "    sentence_sore[i]=check(i, top_K)"
   ]
  },
  {
   "cell_type": "code",
   "execution_count": 32,
   "id": "65f59f79",
   "metadata": {},
   "outputs": [],
   "source": [
    "df = df_jigsaw.copy()"
   ]
  },
  {
   "cell_type": "code",
   "execution_count": 33,
   "id": "fa221742",
   "metadata": {},
   "outputs": [
    {
     "data": {
      "text/html": [
       "<div>\n",
       "<style scoped>\n",
       "    .dataframe tbody tr th:only-of-type {\n",
       "        vertical-align: middle;\n",
       "    }\n",
       "\n",
       "    .dataframe tbody tr th {\n",
       "        vertical-align: top;\n",
       "    }\n",
       "\n",
       "    .dataframe thead th {\n",
       "        text-align: right;\n",
       "    }\n",
       "</style>\n",
       "<table border=\"1\" class=\"dataframe\">\n",
       "  <thead>\n",
       "    <tr style=\"text-align: right;\">\n",
       "      <th></th>\n",
       "      <th>id</th>\n",
       "      <th>comment_text</th>\n",
       "      <th>y</th>\n",
       "      <th>similarity_score</th>\n",
       "    </tr>\n",
       "  </thead>\n",
       "  <tbody>\n",
       "    <tr>\n",
       "      <th>0</th>\n",
       "      <td>0000997932d777bf</td>\n",
       "      <td>Explanation Why the edits made under my userna...</td>\n",
       "      <td>0.0</td>\n",
       "      <td>-0.1285</td>\n",
       "    </tr>\n",
       "    <tr>\n",
       "      <th>1</th>\n",
       "      <td>000103f0d9cfb60f</td>\n",
       "      <td>D aww He matches this background colour I m se...</td>\n",
       "      <td>0.0</td>\n",
       "      <td>-0.0366</td>\n",
       "    </tr>\n",
       "    <tr>\n",
       "      <th>2</th>\n",
       "      <td>000113f07ec002fd</td>\n",
       "      <td>Hey man I m really not trying to edit war It s...</td>\n",
       "      <td>0.0</td>\n",
       "      <td>0.2383</td>\n",
       "    </tr>\n",
       "    <tr>\n",
       "      <th>3</th>\n",
       "      <td>0001b41b1c6bb37e</td>\n",
       "      <td>More I can t make any real suggestions on impr...</td>\n",
       "      <td>0.0</td>\n",
       "      <td>-0.2054</td>\n",
       "    </tr>\n",
       "    <tr>\n",
       "      <th>4</th>\n",
       "      <td>0001d958c54c6e35</td>\n",
       "      <td>You sir are my hero Any chance you remember wh...</td>\n",
       "      <td>0.0</td>\n",
       "      <td>-0.5708</td>\n",
       "    </tr>\n",
       "  </tbody>\n",
       "</table>\n",
       "</div>"
      ],
      "text/plain": [
       "                 id                                       comment_text    y  \\\n",
       "0  0000997932d777bf  Explanation Why the edits made under my userna...  0.0   \n",
       "1  000103f0d9cfb60f  D aww He matches this background colour I m se...  0.0   \n",
       "2  000113f07ec002fd  Hey man I m really not trying to edit war It s...  0.0   \n",
       "3  0001b41b1c6bb37e  More I can t make any real suggestions on impr...  0.0   \n",
       "4  0001d958c54c6e35  You sir are my hero Any chance you remember wh...  0.0   \n",
       "\n",
       "   similarity_score  \n",
       "0           -0.1285  \n",
       "1           -0.0366  \n",
       "2            0.2383  \n",
       "3           -0.2054  \n",
       "4           -0.5708  "
      ]
     },
     "execution_count": 33,
     "metadata": {},
     "output_type": "execute_result"
    }
   ],
   "source": [
    "df['similarity_score'] = sentence_sore\n",
    "df.head()"
   ]
  },
  {
   "cell_type": "code",
   "execution_count": 34,
   "id": "f6a5c0f4",
   "metadata": {},
   "outputs": [],
   "source": [
    "#df['score'] = df['score'].rank(method='first')\n",
    "#df.head()"
   ]
  },
  {
   "cell_type": "code",
   "execution_count": 35,
   "id": "7e577789",
   "metadata": {},
   "outputs": [],
   "source": [
    "#df.drop('text', axis=1, inplace=True)\n",
    "df.to_csv(\"re-ranking-jigsaw-toxic-comment-classification.csv\", index=False)"
   ]
  },
  {
   "cell_type": "code",
   "execution_count": null,
   "id": "735a3c66",
   "metadata": {},
   "outputs": [],
   "source": []
  }
 ],
 "metadata": {
  "kernelspec": {
   "display_name": "Python 3 (ipykernel)",
   "language": "python",
   "name": "python3"
  },
  "language_info": {
   "codemirror_mode": {
    "name": "ipython",
    "version": 3
   },
   "file_extension": ".py",
   "mimetype": "text/x-python",
   "name": "python",
   "nbconvert_exporter": "python",
   "pygments_lexer": "ipython3",
   "version": "3.8.10"
  }
 },
 "nbformat": 4,
 "nbformat_minor": 5
}
